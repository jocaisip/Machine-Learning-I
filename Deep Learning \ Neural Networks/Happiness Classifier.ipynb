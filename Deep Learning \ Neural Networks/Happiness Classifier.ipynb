{
 "cells": [
  {
   "cell_type": "code",
   "execution_count": 2,
   "metadata": {
    "_cell_guid": "b1076dfc-b9ad-4769-8c92-a6c4dae69d19",
    "_uuid": "8f2839f25d086af736a60e9eeb907d3b93b6e0e5",
    "execution": {
     "iopub.execute_input": "2021-12-05T18:02:50.614268Z",
     "iopub.status.busy": "2021-12-05T18:02:50.613861Z",
     "iopub.status.idle": "2021-12-05T18:02:50.814053Z",
     "shell.execute_reply": "2021-12-05T18:02:50.812983Z",
     "shell.execute_reply.started": "2021-12-05T18:02:50.614215Z"
    }
   },
   "outputs": [],
   "source": [
    "import matplotlib.pyplot as plt\n",
    "import seaborn as sns\n",
    "%matplotlib inline\n",
    "\n",
    "from sklearn.metrics import f1_score\n",
    "from sklearn.model_selection import train_test_split\n",
    "import warnings\n",
    "warnings.filterwarnings(\"ignore\")\n",
    "sns.set_style('whitegrid')\n",
    "%matplotlib inline\n"
   ]
  },
  {
   "cell_type": "code",
   "execution_count": 3,
   "metadata": {
    "execution": {
     "iopub.execute_input": "2021-12-05T18:02:50.815851Z",
     "iopub.status.busy": "2021-12-05T18:02:50.815564Z",
     "iopub.status.idle": "2021-12-05T18:02:59.255696Z",
     "shell.execute_reply": "2021-12-05T18:02:59.254673Z",
     "shell.execute_reply.started": "2021-12-05T18:02:50.815824Z"
    }
   },
   "outputs": [],
   "source": [
    "from sklearn.feature_extraction.text import CountVectorizer, TfidfVectorizer\n",
    "from nltk.stem import SnowballStemmer, WordNetLemmatizer \n",
    "from sklearn.metrics import accuracy_score,confusion_matrix, classification_report, precision_recall_fscore_support, precision_score, recall_score, f1_score\n",
    "from keras.preprocessing.text import Tokenizer\n",
    "from keras.preprocessing.sequence import pad_sequences\n",
    "from sklearn.preprocessing import LabelBinarizer\n",
    "from sklearn.model_selection import train_test_split\n",
    "from keras.preprocessing.text import Tokenizer\n",
    "from keras.preprocessing.sequence import pad_sequences\n",
    "from keras.models import Sequential, Model, load_model\n",
    "from keras.layers import Dense, Embedding,Dropout, Layer ,LSTM, SpatialDropout1D,Bidirectional,GlobalMaxPool1D, Input\n",
    "from keras.utils.np_utils import to_categorical\n",
    "from keras.callbacks import EarlyStopping \n",
    "import keras.backend as K\n",
    "from tensorflow.keras.optimizers import Adam\n",
    "import keras\n",
    "import multiprocessing\n",
    "nthreads = multiprocessing.cpu_count()\n",
    "import spacy\n",
    "nlp = spacy.load('en_core_web_sm')\n",
    "import string\n",
    "punctuations = string.punctuation\n",
    "from nltk.corpus import stopwords\n",
    "stop_words = set(stopwords.words('english'))\n",
    "import tensorflow as tf\n",
    "import string\n",
    "import re\n",
    "import pandas as pd\n",
    "import spacy\n",
    "import nltk\n",
    "import numpy as np\n",
    "from nltk.corpus import stopwords\n",
    "from nltk import sent_tokenize, word_tokenize\n",
    "from sklearn.feature_extraction.text import CountVectorizer, TfidfVectorizer\n",
    "from sklearn.model_selection import train_test_split\n",
    "from sklearn.preprocessing import LabelEncoder\n",
    "from sklearn.neighbors import KNeighborsClassifier\n",
    "from sklearn.metrics import accuracy_score\n",
    "from sklearn.ensemble import RandomForestClassifier\n",
    "from sklearn.linear_model import LogisticRegression\n",
    "from nltk.stem.porter import PorterStemmer\n",
    "from nltk.stem import WordNetLemmatizer\n",
    "from imblearn.over_sampling import SMOTE\n",
    "from sklearn.naive_bayes import GaussianNB , MultinomialNB\n",
    "from collections import Counter\n",
    "pd.set_option('display.max_rows', 104)\n",
    "pd.set_option('display.max_columns',104)"
   ]
  },
  {
   "cell_type": "code",
   "execution_count": 4,
   "metadata": {
    "execution": {
     "iopub.execute_input": "2021-12-05T18:02:59.257611Z",
     "iopub.status.busy": "2021-12-05T18:02:59.257301Z",
     "iopub.status.idle": "2021-12-05T18:02:59.623177Z",
     "shell.execute_reply": "2021-12-05T18:02:59.622198Z",
     "shell.execute_reply.started": "2021-12-05T18:02:59.257583Z"
    }
   },
   "outputs": [],
   "source": [
    "df = pd.read_csv('/kaggle/input/bonding/hm_train.csv')\n",
    "df_train = df\n",
    "test = pd.read_csv('/kaggle/input/bonding/hm_test.csv')"
   ]
  },
  {
   "cell_type": "markdown",
   "metadata": {},
   "source": [
    "## Data Preprocessing\n",
    "Data cleaning, lemmatization, and stopwords removal"
   ]
  },
  {
   "cell_type": "code",
   "execution_count": 5,
   "metadata": {
    "execution": {
     "iopub.execute_input": "2021-12-05T18:02:59.627409Z",
     "iopub.status.busy": "2021-12-05T18:02:59.627053Z",
     "iopub.status.idle": "2021-12-05T18:02:59.634609Z",
     "shell.execute_reply": "2021-12-05T18:02:59.633457Z",
     "shell.execute_reply.started": "2021-12-05T18:02:59.627365Z"
    }
   },
   "outputs": [],
   "source": [
    "def clean(data):\n",
    "    datarm=[]\n",
    "    for i in data['cleaned_hm']:\n",
    "        punct = re.sub(r'\\W', ' ', i)\n",
    "        non_num= re.sub ('[0-9]', '', punct)\n",
    "        multiple_spaces = re.sub(' +',' ',non_num)\n",
    "        newlines = str(multiple_spaces).replace(\"\\n\",\"\")\n",
    "        returns = str(newlines).replace(\"\\r\",\"\")\n",
    "        quotes = str(returns).replace(\"'\",\"\")\n",
    "        datarm.append(quotes)\n",
    "    return datarm"
   ]
  },
  {
   "cell_type": "code",
   "execution_count": 6,
   "metadata": {
    "execution": {
     "iopub.execute_input": "2021-12-05T18:02:59.636137Z",
     "iopub.status.busy": "2021-12-05T18:02:59.635803Z",
     "iopub.status.idle": "2021-12-05T18:02:59.647264Z",
     "shell.execute_reply": "2021-12-05T18:02:59.646254Z",
     "shell.execute_reply.started": "2021-12-05T18:02:59.636095Z"
    }
   },
   "outputs": [],
   "source": [
    "def lemmatize(data):\n",
    "    nlp = spacy.load('en_core_web_sm', disable=['parser', 'ner'])\n",
    "\n",
    "    data_lemma = []\n",
    "    for i in data:\n",
    "        text = nlp(i)\n",
    "        data_lemma.append([token.lemma_.lower().strip() for token in text])\n",
    "\n",
    "    return data_lemma"
   ]
  },
  {
   "cell_type": "code",
   "execution_count": 7,
   "metadata": {
    "execution": {
     "iopub.execute_input": "2021-12-05T18:02:59.649998Z",
     "iopub.status.busy": "2021-12-05T18:02:59.649684Z",
     "iopub.status.idle": "2021-12-05T18:02:59.658489Z",
     "shell.execute_reply": "2021-12-05T18:02:59.657593Z",
     "shell.execute_reply.started": "2021-12-05T18:02:59.649970Z"
    }
   },
   "outputs": [],
   "source": [
    "def remove_stopwords(data):\n",
    "    en_stop = nltk.corpus.stopwords.words('english')\n",
    "    for sentence in data:\n",
    "        for token in sentence:\n",
    "            if token.lower() in en_stop:\n",
    "                sentence.remove(token)\n",
    "    data_stopped = [' '.join(i).lower() for i in data]   \n",
    "    return data_stopped"
   ]
  },
  {
   "cell_type": "code",
   "execution_count": 8,
   "metadata": {
    "execution": {
     "iopub.execute_input": "2021-12-05T18:02:59.660934Z",
     "iopub.status.busy": "2021-12-05T18:02:59.660435Z",
     "iopub.status.idle": "2021-12-05T18:02:59.671365Z",
     "shell.execute_reply": "2021-12-05T18:02:59.670615Z",
     "shell.execute_reply.started": "2021-12-05T18:02:59.660898Z"
    }
   },
   "outputs": [],
   "source": [
    "def stem(data):\n",
    "    data_stem = []\n",
    "    stemmer = PorterStemmer()\n",
    "    for sentence in data:\n",
    "        #print(sentence)\n",
    "        data_stem.append([stemmer.stem(token) for token in sentence.split()])\n",
    "    return data_stem"
   ]
  },
  {
   "cell_type": "code",
   "execution_count": 9,
   "metadata": {
    "execution": {
     "iopub.execute_input": "2021-12-05T18:02:59.673985Z",
     "iopub.status.busy": "2021-12-05T18:02:59.673529Z",
     "iopub.status.idle": "2021-12-05T18:02:59.689818Z",
     "shell.execute_reply": "2021-12-05T18:02:59.688783Z",
     "shell.execute_reply.started": "2021-12-05T18:02:59.673938Z"
    }
   },
   "outputs": [],
   "source": [
    "def tokenize(data):\n",
    "    tokenized = []\n",
    "    for i in data:\n",
    "        tokenized.append(i.split())\n",
    "    return tokenized"
   ]
  },
  {
   "cell_type": "code",
   "execution_count": 10,
   "metadata": {
    "execution": {
     "iopub.execute_input": "2021-12-05T18:02:59.692401Z",
     "iopub.status.busy": "2021-12-05T18:02:59.691925Z",
     "iopub.status.idle": "2021-12-05T18:02:59.702164Z",
     "shell.execute_reply": "2021-12-05T18:02:59.701392Z",
     "shell.execute_reply.started": "2021-12-05T18:02:59.692354Z"
    }
   },
   "outputs": [],
   "source": [
    "def preprocess_data(data):\n",
    "    cleaned=clean(data)\n",
    "    lemmatized=lemmatize(cleaned)\n",
    "    #stemmed = stem(cleaned)\n",
    "    data_cleaned=remove_stopwords(lemmatized)\n",
    "    #data_cleaned = remove_commonwords(data_cleaned)\n",
    "    return data_cleaned\n",
    "    #return stemmed"
   ]
  },
  {
   "cell_type": "code",
   "execution_count": 11,
   "metadata": {
    "execution": {
     "iopub.execute_input": "2021-12-05T18:02:59.703635Z",
     "iopub.status.busy": "2021-12-05T18:02:59.703314Z",
     "iopub.status.idle": "2021-12-05T18:05:55.729285Z",
     "shell.execute_reply": "2021-12-05T18:05:55.728338Z",
     "shell.execute_reply.started": "2021-12-05T18:02:59.703605Z"
    }
   },
   "outputs": [],
   "source": [
    "X_train=preprocess_data(df_train)"
   ]
  },
  {
   "cell_type": "code",
   "execution_count": null,
   "metadata": {},
   "outputs": [],
   "source": [
    "y_train=df_train['predicted_category']\n",
    "label_encoder = LabelEncoder()\n",
    "y_encode = label_encoder.fit_transform(y_train)\n",
    "labels = label_encoder.classes_\n",
    "y = y_encode"
   ]
  },
  {
   "cell_type": "code",
   "execution_count": 14,
   "metadata": {
    "execution": {
     "iopub.execute_input": "2021-12-05T18:05:56.118350Z",
     "iopub.status.busy": "2021-12-05T18:05:56.118089Z",
     "iopub.status.idle": "2021-12-05T18:05:57.273827Z",
     "shell.execute_reply": "2021-12-05T18:05:57.272666Z",
     "shell.execute_reply.started": "2021-12-05T18:05:56.118323Z"
    }
   },
   "outputs": [],
   "source": [
    "MAX_NB_WORDS = 150000\n",
    "MAX_SEQUENCE_LENGTH = 250\n",
    "EMBEDDING_DIM = 100\n",
    "tokenizer = Tokenizer(num_words=MAX_NB_WORDS, filters='!\"#$%&()*+,-./:;<=>?@[\\]^_`{|}~', lower=True)\n",
    "tokenizer.fit_on_texts(X_train)\n",
    "word_index = tokenizer.word_index\n",
    "print('Found %s unique tokens.' % len(word_index))"
   ]
  },
  {
   "cell_type": "code",
   "execution_count": 15,
   "metadata": {
    "execution": {
     "iopub.execute_input": "2021-12-05T18:05:57.275631Z",
     "iopub.status.busy": "2021-12-05T18:05:57.275201Z",
     "iopub.status.idle": "2021-12-05T18:05:59.013906Z",
     "shell.execute_reply": "2021-12-05T18:05:59.012824Z",
     "shell.execute_reply.started": "2021-12-05T18:05:57.275587Z"
    }
   },
   "outputs": [],
   "source": [
    "X = tokenizer.texts_to_sequences(X_train)\n",
    "X = pad_sequences(X, maxlen=MAX_SEQUENCE_LENGTH)\n",
    "print('Shape of data tensor:', X.shape)"
   ]
  },
  {
   "cell_type": "markdown",
   "metadata": {},
   "source": [
    "## Train test split"
   ]
  },
  {
   "cell_type": "code",
   "execution_count": 16,
   "metadata": {
    "execution": {
     "iopub.execute_input": "2021-12-05T18:05:59.015314Z",
     "iopub.status.busy": "2021-12-05T18:05:59.015047Z",
     "iopub.status.idle": "2021-12-05T18:05:59.061533Z",
     "shell.execute_reply": "2021-12-05T18:05:59.060563Z",
     "shell.execute_reply.started": "2021-12-05T18:05:59.015287Z"
    }
   },
   "outputs": [],
   "source": [
    "x_train, x_test, y_train, y_test = train_test_split(X,y, test_size = 0.10, random_state = 42)\n",
    "x_train.shape, y_train.shape"
   ]
  },
  {
   "cell_type": "markdown",
   "metadata": {},
   "source": [
    "## BiLSTM Model"
   ]
  },
  {
   "cell_type": "code",
   "execution_count": 17,
   "metadata": {
    "execution": {
     "iopub.execute_input": "2021-12-05T18:05:59.063003Z",
     "iopub.status.busy": "2021-12-05T18:05:59.062614Z",
     "iopub.status.idle": "2021-12-05T18:05:59.815534Z",
     "shell.execute_reply": "2021-12-05T18:05:59.814563Z",
     "shell.execute_reply.started": "2021-12-05T18:05:59.062974Z"
    }
   },
   "outputs": [],
   "source": [
    "model = Sequential()\n",
    "model.add(Embedding(MAX_NB_WORDS, EMBEDDING_DIM, input_length=X.shape[1]))\n",
    "model.add(Bidirectional(LSTM(64)))\n",
    "model.add(Dense(100, activation='relu'))\n",
    "model.add(Dropout(rate=0.4))\n",
    "model.add(Dense(100, activation='relu'))\n",
    "model.add(Dense(len(labels), activation=\"softmax\"))\n",
    "model.compile(loss='categorical_crossentropy', optimizer='adam', metrics=['accuracy'])"
   ]
  },
  {
   "cell_type": "code",
   "execution_count": null,
   "metadata": {
    "execution": {
     "iopub.execute_input": "2021-12-05T18:05:59.817012Z",
     "iopub.status.busy": "2021-12-05T18:05:59.816726Z"
    }
   },
   "outputs": [],
   "source": [
    "epochs = 5\n",
    "batch_size = 128\n",
    "\n",
    "history = model.fit(x_train, y_train, epochs=epochs,\n",
    "                    batch_size=batch_size,validation_split=0.2,\n",
    "                   verbose =1\n",
    "                   )"
   ]
  }
 ],
 "metadata": {
  "kernelspec": {
   "display_name": "Python 3 (ipykernel)",
   "language": "python",
   "name": "python3"
  },
  "language_info": {
   "codemirror_mode": {
    "name": "ipython",
    "version": 3
   },
   "file_extension": ".py",
   "mimetype": "text/x-python",
   "name": "python",
   "nbconvert_exporter": "python",
   "pygments_lexer": "ipython3",
   "version": "3.7.9"
  }
 },
 "nbformat": 4,
 "nbformat_minor": 4
}
