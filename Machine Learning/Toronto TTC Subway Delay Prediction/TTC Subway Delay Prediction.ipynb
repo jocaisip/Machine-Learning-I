{
 "cells": [
  {
   "cell_type": "code",
   "execution_count": 1,
   "id": "683bf8de",
   "metadata": {},
   "outputs": [],
   "source": [
    "import numpy as np\n",
    "import pandas as pd\n",
    "import matplotlib.pyplot as plt\n",
    "import seaborn as sns"
   ]
  },
  {
   "cell_type": "markdown",
   "id": "9fb748cb",
   "metadata": {},
   "source": [
    "## Load dataset - Subway delay data set with outliers (Min Delay greater than 30) removed"
   ]
  },
  {
   "cell_type": "code",
   "execution_count": 2,
   "id": "bfcd6162",
   "metadata": {},
   "outputs": [
    {
     "data": {
      "text/html": [
       "<div>\n",
       "<style scoped>\n",
       "    .dataframe tbody tr th:only-of-type {\n",
       "        vertical-align: middle;\n",
       "    }\n",
       "\n",
       "    .dataframe tbody tr th {\n",
       "        vertical-align: top;\n",
       "    }\n",
       "\n",
       "    .dataframe thead th {\n",
       "        text-align: right;\n",
       "    }\n",
       "</style>\n",
       "<table border=\"1\" class=\"dataframe\">\n",
       "  <thead>\n",
       "    <tr style=\"text-align: right;\">\n",
       "      <th></th>\n",
       "      <th>Date</th>\n",
       "      <th>Time</th>\n",
       "      <th>Day</th>\n",
       "      <th>Station</th>\n",
       "      <th>Code</th>\n",
       "      <th>Min Delay</th>\n",
       "      <th>Min Gap</th>\n",
       "      <th>Bound</th>\n",
       "      <th>Line</th>\n",
       "      <th>Vehicle</th>\n",
       "    </tr>\n",
       "  </thead>\n",
       "  <tbody>\n",
       "    <tr>\n",
       "      <th>0</th>\n",
       "      <td>1/1/2014</td>\n",
       "      <td>2:06</td>\n",
       "      <td>Wednesday</td>\n",
       "      <td>HIGH PARK STATION</td>\n",
       "      <td>SUDP</td>\n",
       "      <td>3</td>\n",
       "      <td>7</td>\n",
       "      <td>W</td>\n",
       "      <td>BD</td>\n",
       "      <td>5001</td>\n",
       "    </tr>\n",
       "    <tr>\n",
       "      <th>1</th>\n",
       "      <td>1/1/2014</td>\n",
       "      <td>2:40</td>\n",
       "      <td>Wednesday</td>\n",
       "      <td>SHEPPARD STATION</td>\n",
       "      <td>MUNCA</td>\n",
       "      <td>0</td>\n",
       "      <td>0</td>\n",
       "      <td>NaN</td>\n",
       "      <td>YU</td>\n",
       "      <td>0</td>\n",
       "    </tr>\n",
       "    <tr>\n",
       "      <th>2</th>\n",
       "      <td>1/1/2014</td>\n",
       "      <td>3:10</td>\n",
       "      <td>Wednesday</td>\n",
       "      <td>LANSDOWNE STATION</td>\n",
       "      <td>SUDP</td>\n",
       "      <td>3</td>\n",
       "      <td>8</td>\n",
       "      <td>W</td>\n",
       "      <td>BD</td>\n",
       "      <td>5116</td>\n",
       "    </tr>\n",
       "    <tr>\n",
       "      <th>3</th>\n",
       "      <td>1/1/2014</td>\n",
       "      <td>3:20</td>\n",
       "      <td>Wednesday</td>\n",
       "      <td>BLOOR STATION</td>\n",
       "      <td>MUSAN</td>\n",
       "      <td>5</td>\n",
       "      <td>10</td>\n",
       "      <td>S</td>\n",
       "      <td>YU</td>\n",
       "      <td>5386</td>\n",
       "    </tr>\n",
       "    <tr>\n",
       "      <th>4</th>\n",
       "      <td>1/1/2014</td>\n",
       "      <td>3:29</td>\n",
       "      <td>Wednesday</td>\n",
       "      <td>DUFFERIN STATION</td>\n",
       "      <td>MUPAA</td>\n",
       "      <td>0</td>\n",
       "      <td>0</td>\n",
       "      <td>E</td>\n",
       "      <td>BD</td>\n",
       "      <td>5174</td>\n",
       "    </tr>\n",
       "    <tr>\n",
       "      <th>...</th>\n",
       "      <td>...</td>\n",
       "      <td>...</td>\n",
       "      <td>...</td>\n",
       "      <td>...</td>\n",
       "      <td>...</td>\n",
       "      <td>...</td>\n",
       "      <td>...</td>\n",
       "      <td>...</td>\n",
       "      <td>...</td>\n",
       "      <td>...</td>\n",
       "    </tr>\n",
       "    <tr>\n",
       "      <th>143135</th>\n",
       "      <td>6/30/2021</td>\n",
       "      <td>1:23</td>\n",
       "      <td>Wednesday</td>\n",
       "      <td>ST CLAIR STATION</td>\n",
       "      <td>MUIS</td>\n",
       "      <td>0</td>\n",
       "      <td>0</td>\n",
       "      <td>NaN</td>\n",
       "      <td>YU</td>\n",
       "      <td>0</td>\n",
       "    </tr>\n",
       "    <tr>\n",
       "      <th>143136</th>\n",
       "      <td>6/30/2021</td>\n",
       "      <td>6:00</td>\n",
       "      <td>Wednesday</td>\n",
       "      <td>TORONTO TRANSIT COMMIS</td>\n",
       "      <td>MUO</td>\n",
       "      <td>0</td>\n",
       "      <td>0</td>\n",
       "      <td>NaN</td>\n",
       "      <td>SHP</td>\n",
       "      <td>0</td>\n",
       "    </tr>\n",
       "    <tr>\n",
       "      <th>143137</th>\n",
       "      <td>6/30/2021</td>\n",
       "      <td>12:40</td>\n",
       "      <td>Wednesday</td>\n",
       "      <td>LESLIE STATION</td>\n",
       "      <td>MUIS</td>\n",
       "      <td>0</td>\n",
       "      <td>0</td>\n",
       "      <td>NaN</td>\n",
       "      <td>SHP</td>\n",
       "      <td>0</td>\n",
       "    </tr>\n",
       "    <tr>\n",
       "      <th>143138</th>\n",
       "      <td>6/30/2021</td>\n",
       "      <td>20:50</td>\n",
       "      <td>Wednesday</td>\n",
       "      <td>LESLIE STATION</td>\n",
       "      <td>MUTD</td>\n",
       "      <td>9</td>\n",
       "      <td>14</td>\n",
       "      <td>E</td>\n",
       "      <td>SHP</td>\n",
       "      <td>6171</td>\n",
       "    </tr>\n",
       "    <tr>\n",
       "      <th>143139</th>\n",
       "      <td>6/30/2021</td>\n",
       "      <td>0:45</td>\n",
       "      <td>Wednesday</td>\n",
       "      <td>LESLIE STATION</td>\n",
       "      <td>TUMVS</td>\n",
       "      <td>5</td>\n",
       "      <td>10</td>\n",
       "      <td>E</td>\n",
       "      <td>SHP</td>\n",
       "      <td>6166</td>\n",
       "    </tr>\n",
       "  </tbody>\n",
       "</table>\n",
       "<p>143140 rows × 10 columns</p>\n",
       "</div>"
      ],
      "text/plain": [
       "             Date   Time        Day                 Station   Code  Min Delay  \\\n",
       "0        1/1/2014   2:06  Wednesday       HIGH PARK STATION   SUDP          3   \n",
       "1        1/1/2014   2:40  Wednesday        SHEPPARD STATION  MUNCA          0   \n",
       "2        1/1/2014   3:10  Wednesday       LANSDOWNE STATION   SUDP          3   \n",
       "3        1/1/2014   3:20  Wednesday           BLOOR STATION  MUSAN          5   \n",
       "4        1/1/2014   3:29  Wednesday        DUFFERIN STATION  MUPAA          0   \n",
       "...           ...    ...        ...                     ...    ...        ...   \n",
       "143135  6/30/2021   1:23  Wednesday        ST CLAIR STATION   MUIS          0   \n",
       "143136  6/30/2021   6:00  Wednesday  TORONTO TRANSIT COMMIS    MUO          0   \n",
       "143137  6/30/2021  12:40  Wednesday          LESLIE STATION   MUIS          0   \n",
       "143138  6/30/2021  20:50  Wednesday          LESLIE STATION   MUTD          9   \n",
       "143139  6/30/2021   0:45  Wednesday          LESLIE STATION  TUMVS          5   \n",
       "\n",
       "        Min Gap Bound Line  Vehicle  \n",
       "0             7     W   BD     5001  \n",
       "1             0   NaN   YU        0  \n",
       "2             8     W   BD     5116  \n",
       "3            10     S   YU     5386  \n",
       "4             0     E   BD     5174  \n",
       "...         ...   ...  ...      ...  \n",
       "143135        0   NaN   YU        0  \n",
       "143136        0   NaN  SHP        0  \n",
       "143137        0   NaN  SHP        0  \n",
       "143138       14     E  SHP     6171  \n",
       "143139       10     E  SHP     6166  \n",
       "\n",
       "[143140 rows x 10 columns]"
      ]
     },
     "execution_count": 2,
     "metadata": {},
     "output_type": "execute_result"
    }
   ],
   "source": [
    "df = pd.read_csv('Toronto-Subway-Delay-Jan-2014-Jun-2021 removed_above_30.csv')\n",
    "df"
   ]
  },
  {
   "cell_type": "code",
   "execution_count": 3,
   "id": "a83d10fe",
   "metadata": {},
   "outputs": [
    {
     "data": {
      "text/plain": [
       "Date             0\n",
       "Time             0\n",
       "Day              0\n",
       "Station          0\n",
       "Code             1\n",
       "Min Delay        0\n",
       "Min Gap          0\n",
       "Bound        32209\n",
       "Line           544\n",
       "Vehicle          0\n",
       "dtype: int64"
      ]
     },
     "execution_count": 3,
     "metadata": {},
     "output_type": "execute_result"
    }
   ],
   "source": [
    "df.isna().sum()"
   ]
  },
  {
   "cell_type": "markdown",
   "id": "888144fa",
   "metadata": {},
   "source": [
    "## Yellow lines in this heatmap show the NaN values in the dataset"
   ]
  },
  {
   "cell_type": "code",
   "execution_count": 4,
   "id": "4211c35d",
   "metadata": {},
   "outputs": [
    {
     "data": {
      "text/plain": [
       "<AxesSubplot:>"
      ]
     },
     "execution_count": 4,
     "metadata": {},
     "output_type": "execute_result"
    },
    {
     "data": {
      "image/png": "[encoded data removed]",
      "text/plain": [
       "<Figure size 720x432 with 1 Axes>"
      ]
     },
     "metadata": {
      "needs_background": "light"
     },
     "output_type": "display_data"
    }
   ],
   "source": [
    "plt.figure(figsize=(10,6))\n",
    "sns.heatmap(df.isna(), cbar=False, cmap='viridis', yticklabels=False)"
   ]
  },
  {
   "cell_type": "markdown",
   "id": "571d5a13",
   "metadata": {},
   "source": [
    "## Drop the 'Bound' column that contains 22.5% NaN values"
   ]
  },
  {
   "cell_type": "code",
   "execution_count": 5,
   "id": "052d9233",
   "metadata": {},
   "outputs": [
    {
     "data": {
      "text/html": [
       "<div>\n",
       "<style scoped>\n",
       "    .dataframe tbody tr th:only-of-type {\n",
       "        vertical-align: middle;\n",
       "    }\n",
       "\n",
       "    .dataframe tbody tr th {\n",
       "        vertical-align: top;\n",
       "    }\n",
       "\n",
       "    .dataframe thead th {\n",
       "        text-align: right;\n",
       "    }\n",
       "</style>\n",
       "<table border=\"1\" class=\"dataframe\">\n",
       "  <thead>\n",
       "    <tr style=\"text-align: right;\">\n",
       "      <th></th>\n",
       "      <th>Date</th>\n",
       "      <th>Time</th>\n",
       "      <th>Day</th>\n",
       "      <th>Station</th>\n",
       "      <th>Code</th>\n",
       "      <th>Min Delay</th>\n",
       "      <th>Min Gap</th>\n",
       "      <th>Line</th>\n",
       "      <th>Vehicle</th>\n",
       "    </tr>\n",
       "  </thead>\n",
       "  <tbody>\n",
       "    <tr>\n",
       "      <th>0</th>\n",
       "      <td>1/1/2014</td>\n",
       "      <td>2:06</td>\n",
       "      <td>Wednesday</td>\n",
       "      <td>HIGH PARK STATION</td>\n",
       "      <td>SUDP</td>\n",
       "      <td>3</td>\n",
       "      <td>7</td>\n",
       "      <td>BD</td>\n",
       "      <td>5001</td>\n",
       "    </tr>\n",
       "    <tr>\n",
       "      <th>1</th>\n",
       "      <td>1/1/2014</td>\n",
       "      <td>2:40</td>\n",
       "      <td>Wednesday</td>\n",
       "      <td>SHEPPARD STATION</td>\n",
       "      <td>MUNCA</td>\n",
       "      <td>0</td>\n",
       "      <td>0</td>\n",
       "      <td>YU</td>\n",
       "      <td>0</td>\n",
       "    </tr>\n",
       "    <tr>\n",
       "      <th>2</th>\n",
       "      <td>1/1/2014</td>\n",
       "      <td>3:10</td>\n",
       "      <td>Wednesday</td>\n",
       "      <td>LANSDOWNE STATION</td>\n",
       "      <td>SUDP</td>\n",
       "      <td>3</td>\n",
       "      <td>8</td>\n",
       "      <td>BD</td>\n",
       "      <td>5116</td>\n",
       "    </tr>\n",
       "    <tr>\n",
       "      <th>3</th>\n",
       "      <td>1/1/2014</td>\n",
       "      <td>3:20</td>\n",
       "      <td>Wednesday</td>\n",
       "      <td>BLOOR STATION</td>\n",
       "      <td>MUSAN</td>\n",
       "      <td>5</td>\n",
       "      <td>10</td>\n",
       "      <td>YU</td>\n",
       "      <td>5386</td>\n",
       "    </tr>\n",
       "    <tr>\n",
       "      <th>4</th>\n",
       "      <td>1/1/2014</td>\n",
       "      <td>3:29</td>\n",
       "      <td>Wednesday</td>\n",
       "      <td>DUFFERIN STATION</td>\n",
       "      <td>MUPAA</td>\n",
       "      <td>0</td>\n",
       "      <td>0</td>\n",
       "      <td>BD</td>\n",
       "      <td>5174</td>\n",
       "    </tr>\n",
       "    <tr>\n",
       "      <th>...</th>\n",
       "      <td>...</td>\n",
       "      <td>...</td>\n",
       "      <td>...</td>\n",
       "      <td>...</td>\n",
       "      <td>...</td>\n",
       "      <td>...</td>\n",
       "      <td>...</td>\n",
       "      <td>...</td>\n",
       "      <td>...</td>\n",
       "    </tr>\n",
       "    <tr>\n",
       "      <th>143135</th>\n",
       "      <td>6/30/2021</td>\n",
       "      <td>1:23</td>\n",
       "      <td>Wednesday</td>\n",
       "      <td>ST CLAIR STATION</td>\n",
       "      <td>MUIS</td>\n",
       "      <td>0</td>\n",
       "      <td>0</td>\n",
       "      <td>YU</td>\n",
       "      <td>0</td>\n",
       "    </tr>\n",
       "    <tr>\n",
       "      <th>143136</th>\n",
       "      <td>6/30/2021</td>\n",
       "      <td>6:00</td>\n",
       "      <td>Wednesday</td>\n",
       "      <td>TORONTO TRANSIT COMMIS</td>\n",
       "      <td>MUO</td>\n",
       "      <td>0</td>\n",
       "      <td>0</td>\n",
       "      <td>SHP</td>\n",
       "      <td>0</td>\n",
       "    </tr>\n",
       "    <tr>\n",
       "      <th>143137</th>\n",
       "      <td>6/30/2021</td>\n",
       "      <td>12:40</td>\n",
       "      <td>Wednesday</td>\n",
       "      <td>LESLIE STATION</td>\n",
       "      <td>MUIS</td>\n",
       "      <td>0</td>\n",
       "      <td>0</td>\n",
       "      <td>SHP</td>\n",
       "      <td>0</td>\n",
       "    </tr>\n",
       "    <tr>\n",
       "      <th>143138</th>\n",
       "      <td>6/30/2021</td>\n",
       "      <td>20:50</td>\n",
       "      <td>Wednesday</td>\n",
       "      <td>LESLIE STATION</td>\n",
       "      <td>MUTD</td>\n",
       "      <td>9</td>\n",
       "      <td>14</td>\n",
       "      <td>SHP</td>\n",
       "      <td>6171</td>\n",
       "    </tr>\n",
       "    <tr>\n",
       "      <th>143139</th>\n",
       "      <td>6/30/2021</td>\n",
       "      <td>0:45</td>\n",
       "      <td>Wednesday</td>\n",
       "      <td>LESLIE STATION</td>\n",
       "      <td>TUMVS</td>\n",
       "      <td>5</td>\n",
       "      <td>10</td>\n",
       "      <td>SHP</td>\n",
       "      <td>6166</td>\n",
       "    </tr>\n",
       "  </tbody>\n",
       "</table>\n",
       "<p>143140 rows × 9 columns</p>\n",
       "</div>"
      ],
      "text/plain": [
       "             Date   Time        Day                 Station   Code  Min Delay  \\\n",
       "0        1/1/2014   2:06  Wednesday       HIGH PARK STATION   SUDP          3   \n",
       "1        1/1/2014   2:40  Wednesday        SHEPPARD STATION  MUNCA          0   \n",
       "2        1/1/2014   3:10  Wednesday       LANSDOWNE STATION   SUDP          3   \n",
       "3        1/1/2014   3:20  Wednesday           BLOOR STATION  MUSAN          5   \n",
       "4        1/1/2014   3:29  Wednesday        DUFFERIN STATION  MUPAA          0   \n",
       "...           ...    ...        ...                     ...    ...        ...   \n",
       "143135  6/30/2021   1:23  Wednesday        ST CLAIR STATION   MUIS          0   \n",
       "143136  6/30/2021   6:00  Wednesday  TORONTO TRANSIT COMMIS    MUO          0   \n",
       "143137  6/30/2021  12:40  Wednesday          LESLIE STATION   MUIS          0   \n",
       "143138  6/30/2021  20:50  Wednesday          LESLIE STATION   MUTD          9   \n",
       "143139  6/30/2021   0:45  Wednesday          LESLIE STATION  TUMVS          5   \n",
       "\n",
       "        Min Gap Line  Vehicle  \n",
       "0             7   BD     5001  \n",
       "1             0   YU        0  \n",
       "2             8   BD     5116  \n",
       "3            10   YU     5386  \n",
       "4             0   BD     5174  \n",
       "...         ...  ...      ...  \n",
       "143135        0   YU        0  \n",
       "143136        0  SHP        0  \n",
       "143137        0  SHP        0  \n",
       "143138       14  SHP     6171  \n",
       "143139       10  SHP     6166  \n",
       "\n",
       "[143140 rows x 9 columns]"
      ]
     },
     "execution_count": 5,
     "metadata": {},
     "output_type": "execute_result"
    }
   ],
   "source": [
    "df = df.drop(['Bound'], axis=1)\n",
    "df"
   ]
  },
  {
   "cell_type": "code",
   "execution_count": 6,
   "id": "091718f1",
   "metadata": {},
   "outputs": [
    {
     "data": {
      "text/plain": [
       "(143140, 9)"
      ]
     },
     "execution_count": 6,
     "metadata": {},
     "output_type": "execute_result"
    }
   ],
   "source": [
    "df.shape"
   ]
  },
  {
   "cell_type": "markdown",
   "id": "cd38d871",
   "metadata": {},
   "source": [
    "## Drop remaining NaN columns"
   ]
  },
  {
   "cell_type": "code",
   "execution_count": 7,
   "id": "c3800a88",
   "metadata": {},
   "outputs": [
    {
     "data": {
      "text/plain": [
       "(142595, 9)"
      ]
     },
     "execution_count": 7,
     "metadata": {},
     "output_type": "execute_result"
    }
   ],
   "source": [
    "df = df.dropna()\n",
    "df.shape"
   ]
  },
  {
   "cell_type": "code",
   "execution_count": 8,
   "id": "5a81bc91",
   "metadata": {},
   "outputs": [
    {
     "data": {
      "text/plain": [
       "Date         0\n",
       "Time         0\n",
       "Day          0\n",
       "Station      0\n",
       "Code         0\n",
       "Min Delay    0\n",
       "Min Gap      0\n",
       "Line         0\n",
       "Vehicle      0\n",
       "dtype: int64"
      ]
     },
     "execution_count": 8,
     "metadata": {},
     "output_type": "execute_result"
    }
   ],
   "source": [
    "df.isna().sum()"
   ]
  },
  {
   "cell_type": "markdown",
   "id": "2a9b0473",
   "metadata": {},
   "source": [
    "## Preprocessing - Label Encoder for categorical variables"
   ]
  },
  {
   "cell_type": "code",
   "execution_count": 9,
   "id": "9207455b",
   "metadata": {},
   "outputs": [
    {
     "name": "stderr",
     "output_type": "stream",
     "text": [
      "C:\\Users\\jocai\\AppData\\Local\\Temp/ipykernel_19608/3088953963.py:6: SettingWithCopyWarning: \n",
      "A value is trying to be set on a copy of a slice from a DataFrame.\n",
      "Try using .loc[row_indexer,col_indexer] = value instead\n",
      "\n",
      "See the caveats in the documentation: https://pandas.pydata.org/pandas-docs/stable/user_guide/indexing.html#returning-a-view-versus-a-copy\n",
      "  df['Date'] = label_encoder.fit_transform(df['Date'])\n",
      "C:\\Users\\jocai\\AppData\\Local\\Temp/ipykernel_19608/3088953963.py:7: SettingWithCopyWarning: \n",
      "A value is trying to be set on a copy of a slice from a DataFrame.\n",
      "Try using .loc[row_indexer,col_indexer] = value instead\n",
      "\n",
      "See the caveats in the documentation: https://pandas.pydata.org/pandas-docs/stable/user_guide/indexing.html#returning-a-view-versus-a-copy\n",
      "  df['Time'] = label_encoder.fit_transform(df['Time'])\n",
      "C:\\Users\\jocai\\AppData\\Local\\Temp/ipykernel_19608/3088953963.py:8: SettingWithCopyWarning: \n",
      "A value is trying to be set on a copy of a slice from a DataFrame.\n",
      "Try using .loc[row_indexer,col_indexer] = value instead\n",
      "\n",
      "See the caveats in the documentation: https://pandas.pydata.org/pandas-docs/stable/user_guide/indexing.html#returning-a-view-versus-a-copy\n",
      "  df['Day'] = label_encoder.fit_transform(df['Day'])\n",
      "C:\\Users\\jocai\\AppData\\Local\\Temp/ipykernel_19608/3088953963.py:9: SettingWithCopyWarning: \n",
      "A value is trying to be set on a copy of a slice from a DataFrame.\n",
      "Try using .loc[row_indexer,col_indexer] = value instead\n",
      "\n",
      "See the caveats in the documentation: https://pandas.pydata.org/pandas-docs/stable/user_guide/indexing.html#returning-a-view-versus-a-copy\n",
      "  df['Station'] = label_encoder.fit_transform(df['Station'])\n",
      "C:\\Users\\jocai\\AppData\\Local\\Temp/ipykernel_19608/3088953963.py:10: SettingWithCopyWarning: \n",
      "A value is trying to be set on a copy of a slice from a DataFrame.\n",
      "Try using .loc[row_indexer,col_indexer] = value instead\n",
      "\n",
      "See the caveats in the documentation: https://pandas.pydata.org/pandas-docs/stable/user_guide/indexing.html#returning-a-view-versus-a-copy\n",
      "  df['Code'] = label_encoder.fit_transform(df['Code'])\n",
      "C:\\Users\\jocai\\AppData\\Local\\Temp/ipykernel_19608/3088953963.py:11: SettingWithCopyWarning: \n",
      "A value is trying to be set on a copy of a slice from a DataFrame.\n",
      "Try using .loc[row_indexer,col_indexer] = value instead\n",
      "\n",
      "See the caveats in the documentation: https://pandas.pydata.org/pandas-docs/stable/user_guide/indexing.html#returning-a-view-versus-a-copy\n",
      "  df['Line'] = label_encoder.fit_transform(df['Line'])\n"
     ]
    },
    {
     "data": {
      "text/html": [
       "<div>\n",
       "<style scoped>\n",
       "    .dataframe tbody tr th:only-of-type {\n",
       "        vertical-align: middle;\n",
       "    }\n",
       "\n",
       "    .dataframe tbody tr th {\n",
       "        vertical-align: top;\n",
       "    }\n",
       "\n",
       "    .dataframe thead th {\n",
       "        text-align: right;\n",
       "    }\n",
       "</style>\n",
       "<table border=\"1\" class=\"dataframe\">\n",
       "  <thead>\n",
       "    <tr style=\"text-align: right;\">\n",
       "      <th></th>\n",
       "      <th>Date</th>\n",
       "      <th>Time</th>\n",
       "      <th>Day</th>\n",
       "      <th>Station</th>\n",
       "      <th>Code</th>\n",
       "      <th>Min Delay</th>\n",
       "      <th>Min Gap</th>\n",
       "      <th>Line</th>\n",
       "      <th>Vehicle</th>\n",
       "    </tr>\n",
       "  </thead>\n",
       "  <tbody>\n",
       "    <tr>\n",
       "      <th>0</th>\n",
       "      <td>0</td>\n",
       "      <td>966</td>\n",
       "      <td>6</td>\n",
       "      <td>206</td>\n",
       "      <td>181</td>\n",
       "      <td>3</td>\n",
       "      <td>7</td>\n",
       "      <td>39</td>\n",
       "      <td>5001</td>\n",
       "    </tr>\n",
       "    <tr>\n",
       "      <th>1</th>\n",
       "      <td>0</td>\n",
       "      <td>1000</td>\n",
       "      <td>6</td>\n",
       "      <td>417</td>\n",
       "      <td>91</td>\n",
       "      <td>0</td>\n",
       "      <td>0</td>\n",
       "      <td>55</td>\n",
       "      <td>0</td>\n",
       "    </tr>\n",
       "    <tr>\n",
       "      <th>2</th>\n",
       "      <td>0</td>\n",
       "      <td>1030</td>\n",
       "      <td>6</td>\n",
       "      <td>296</td>\n",
       "      <td>181</td>\n",
       "      <td>3</td>\n",
       "      <td>8</td>\n",
       "      <td>39</td>\n",
       "      <td>5116</td>\n",
       "    </tr>\n",
       "    <tr>\n",
       "      <th>3</th>\n",
       "      <td>0</td>\n",
       "      <td>1040</td>\n",
       "      <td>6</td>\n",
       "      <td>27</td>\n",
       "      <td>101</td>\n",
       "      <td>5</td>\n",
       "      <td>10</td>\n",
       "      <td>55</td>\n",
       "      <td>5386</td>\n",
       "    </tr>\n",
       "    <tr>\n",
       "      <th>4</th>\n",
       "      <td>0</td>\n",
       "      <td>1049</td>\n",
       "      <td>6</td>\n",
       "      <td>106</td>\n",
       "      <td>95</td>\n",
       "      <td>0</td>\n",
       "      <td>0</td>\n",
       "      <td>39</td>\n",
       "      <td>5174</td>\n",
       "    </tr>\n",
       "  </tbody>\n",
       "</table>\n",
       "</div>"
      ],
      "text/plain": [
       "   Date  Time  Day  Station  Code  Min Delay  Min Gap  Line  Vehicle\n",
       "0     0   966    6      206   181          3        7    39     5001\n",
       "1     0  1000    6      417    91          0        0    55        0\n",
       "2     0  1030    6      296   181          3        8    39     5116\n",
       "3     0  1040    6       27   101          5       10    55     5386\n",
       "4     0  1049    6      106    95          0        0    39     5174"
      ]
     },
     "execution_count": 9,
     "metadata": {},
     "output_type": "execute_result"
    }
   ],
   "source": [
    "from sklearn.preprocessing import LabelEncoder\n",
    "label_encoder = LabelEncoder()\n",
    "\n",
    "df['Date'] = label_encoder.fit_transform(df['Date'])\n",
    "df['Time'] = label_encoder.fit_transform(df['Time'])\n",
    "df['Day'] = label_encoder.fit_transform(df['Day'])\n",
    "df['Station'] = label_encoder.fit_transform(df['Station'])\n",
    "df['Code'] = label_encoder.fit_transform(df['Code'])\n",
    "df['Line'] = label_encoder.fit_transform(df['Line'])\n",
    "df.head()"
   ]
  },
  {
   "cell_type": "code",
   "execution_count": 10,
   "id": "87501485",
   "metadata": {},
   "outputs": [],
   "source": [
    "# Define X, y\n",
    "\n",
    "X = df.drop(['Min Delay'], axis =1)\n",
    "y = df['Min Delay']"
   ]
  },
  {
   "cell_type": "code",
   "execution_count": 11,
   "id": "a37d7503",
   "metadata": {},
   "outputs": [
    {
     "data": {
      "text/html": [
       "<div>\n",
       "<style scoped>\n",
       "    .dataframe tbody tr th:only-of-type {\n",
       "        vertical-align: middle;\n",
       "    }\n",
       "\n",
       "    .dataframe tbody tr th {\n",
       "        vertical-align: top;\n",
       "    }\n",
       "\n",
       "    .dataframe thead th {\n",
       "        text-align: right;\n",
       "    }\n",
       "</style>\n",
       "<table border=\"1\" class=\"dataframe\">\n",
       "  <thead>\n",
       "    <tr style=\"text-align: right;\">\n",
       "      <th></th>\n",
       "      <th>Date</th>\n",
       "      <th>Time</th>\n",
       "      <th>Day</th>\n",
       "      <th>Station</th>\n",
       "      <th>Code</th>\n",
       "      <th>Min Gap</th>\n",
       "      <th>Line</th>\n",
       "      <th>Vehicle</th>\n",
       "    </tr>\n",
       "  </thead>\n",
       "  <tbody>\n",
       "    <tr>\n",
       "      <th>0</th>\n",
       "      <td>0</td>\n",
       "      <td>966</td>\n",
       "      <td>6</td>\n",
       "      <td>206</td>\n",
       "      <td>181</td>\n",
       "      <td>7</td>\n",
       "      <td>39</td>\n",
       "      <td>5001</td>\n",
       "    </tr>\n",
       "    <tr>\n",
       "      <th>1</th>\n",
       "      <td>0</td>\n",
       "      <td>1000</td>\n",
       "      <td>6</td>\n",
       "      <td>417</td>\n",
       "      <td>91</td>\n",
       "      <td>0</td>\n",
       "      <td>55</td>\n",
       "      <td>0</td>\n",
       "    </tr>\n",
       "    <tr>\n",
       "      <th>2</th>\n",
       "      <td>0</td>\n",
       "      <td>1030</td>\n",
       "      <td>6</td>\n",
       "      <td>296</td>\n",
       "      <td>181</td>\n",
       "      <td>8</td>\n",
       "      <td>39</td>\n",
       "      <td>5116</td>\n",
       "    </tr>\n",
       "    <tr>\n",
       "      <th>3</th>\n",
       "      <td>0</td>\n",
       "      <td>1040</td>\n",
       "      <td>6</td>\n",
       "      <td>27</td>\n",
       "      <td>101</td>\n",
       "      <td>10</td>\n",
       "      <td>55</td>\n",
       "      <td>5386</td>\n",
       "    </tr>\n",
       "    <tr>\n",
       "      <th>4</th>\n",
       "      <td>0</td>\n",
       "      <td>1049</td>\n",
       "      <td>6</td>\n",
       "      <td>106</td>\n",
       "      <td>95</td>\n",
       "      <td>0</td>\n",
       "      <td>39</td>\n",
       "      <td>5174</td>\n",
       "    </tr>\n",
       "    <tr>\n",
       "      <th>...</th>\n",
       "      <td>...</td>\n",
       "      <td>...</td>\n",
       "      <td>...</td>\n",
       "      <td>...</td>\n",
       "      <td>...</td>\n",
       "      <td>...</td>\n",
       "      <td>...</td>\n",
       "      <td>...</td>\n",
       "    </tr>\n",
       "    <tr>\n",
       "      <th>143135</th>\n",
       "      <td>2045</td>\n",
       "      <td>683</td>\n",
       "      <td>6</td>\n",
       "      <td>463</td>\n",
       "      <td>90</td>\n",
       "      <td>0</td>\n",
       "      <td>55</td>\n",
       "      <td>0</td>\n",
       "    </tr>\n",
       "    <tr>\n",
       "      <th>143136</th>\n",
       "      <td>2045</td>\n",
       "      <td>1199</td>\n",
       "      <td>6</td>\n",
       "      <td>516</td>\n",
       "      <td>93</td>\n",
       "      <td>0</td>\n",
       "      <td>51</td>\n",
       "      <td>0</td>\n",
       "    </tr>\n",
       "    <tr>\n",
       "      <th>143137</th>\n",
       "      <td>2045</td>\n",
       "      <td>220</td>\n",
       "      <td>6</td>\n",
       "      <td>317</td>\n",
       "      <td>90</td>\n",
       "      <td>0</td>\n",
       "      <td>51</td>\n",
       "      <td>0</td>\n",
       "    </tr>\n",
       "    <tr>\n",
       "      <th>143138</th>\n",
       "      <td>2045</td>\n",
       "      <td>770</td>\n",
       "      <td>6</td>\n",
       "      <td>317</td>\n",
       "      <td>103</td>\n",
       "      <td>14</td>\n",
       "      <td>51</td>\n",
       "      <td>6171</td>\n",
       "    </tr>\n",
       "    <tr>\n",
       "      <th>143139</th>\n",
       "      <td>2045</td>\n",
       "      <td>45</td>\n",
       "      <td>6</td>\n",
       "      <td>317</td>\n",
       "      <td>204</td>\n",
       "      <td>10</td>\n",
       "      <td>51</td>\n",
       "      <td>6166</td>\n",
       "    </tr>\n",
       "  </tbody>\n",
       "</table>\n",
       "<p>142595 rows × 8 columns</p>\n",
       "</div>"
      ],
      "text/plain": [
       "        Date  Time  Day  Station  Code  Min Gap  Line  Vehicle\n",
       "0          0   966    6      206   181        7    39     5001\n",
       "1          0  1000    6      417    91        0    55        0\n",
       "2          0  1030    6      296   181        8    39     5116\n",
       "3          0  1040    6       27   101       10    55     5386\n",
       "4          0  1049    6      106    95        0    39     5174\n",
       "...      ...   ...  ...      ...   ...      ...   ...      ...\n",
       "143135  2045   683    6      463    90        0    55        0\n",
       "143136  2045  1199    6      516    93        0    51        0\n",
       "143137  2045   220    6      317    90        0    51        0\n",
       "143138  2045   770    6      317   103       14    51     6171\n",
       "143139  2045    45    6      317   204       10    51     6166\n",
       "\n",
       "[142595 rows x 8 columns]"
      ]
     },
     "execution_count": 11,
     "metadata": {},
     "output_type": "execute_result"
    }
   ],
   "source": [
    "X"
   ]
  },
  {
   "cell_type": "code",
   "execution_count": 12,
   "id": "7d6c895f",
   "metadata": {},
   "outputs": [
    {
     "data": {
      "text/plain": [
       "0         3\n",
       "1         0\n",
       "2         3\n",
       "3         5\n",
       "4         0\n",
       "         ..\n",
       "143135    0\n",
       "143136    0\n",
       "143137    0\n",
       "143138    9\n",
       "143139    5\n",
       "Name: Min Delay, Length: 142595, dtype: int64"
      ]
     },
     "execution_count": 12,
     "metadata": {},
     "output_type": "execute_result"
    }
   ],
   "source": [
    "y"
   ]
  },
  {
   "cell_type": "code",
   "execution_count": 13,
   "id": "92f6c91f",
   "metadata": {},
   "outputs": [],
   "source": [
    "# define features columns and number of features for Feature Selection methods\n",
    "feature_name = list(X.columns)\n",
    "num_feats = 6"
   ]
  },
  {
   "cell_type": "markdown",
   "id": "a2e43979",
   "metadata": {},
   "source": [
    "## Feature Selection"
   ]
  },
  {
   "cell_type": "code",
   "execution_count": 14,
   "id": "996fb3fc",
   "metadata": {},
   "outputs": [
    {
     "data": {
      "text/html": [
       "<div>\n",
       "<style scoped>\n",
       "    .dataframe tbody tr th:only-of-type {\n",
       "        vertical-align: middle;\n",
       "    }\n",
       "\n",
       "    .dataframe tbody tr th {\n",
       "        vertical-align: top;\n",
       "    }\n",
       "\n",
       "    .dataframe thead th {\n",
       "        text-align: right;\n",
       "    }\n",
       "</style>\n",
       "<table border=\"1\" class=\"dataframe\">\n",
       "  <thead>\n",
       "    <tr style=\"text-align: right;\">\n",
       "      <th></th>\n",
       "      <th>feature</th>\n",
       "      <th>cor_value</th>\n",
       "    </tr>\n",
       "  </thead>\n",
       "  <tbody>\n",
       "    <tr>\n",
       "      <th>0</th>\n",
       "      <td>Day</td>\n",
       "      <td>-0.013506</td>\n",
       "    </tr>\n",
       "    <tr>\n",
       "      <th>1</th>\n",
       "      <td>Time</td>\n",
       "      <td>-0.009919</td>\n",
       "    </tr>\n",
       "    <tr>\n",
       "      <th>2</th>\n",
       "      <td>Date</td>\n",
       "      <td>-0.005982</td>\n",
       "    </tr>\n",
       "    <tr>\n",
       "      <th>3</th>\n",
       "      <td>Station</td>\n",
       "      <td>-0.019113</td>\n",
       "    </tr>\n",
       "    <tr>\n",
       "      <th>4</th>\n",
       "      <td>Line</td>\n",
       "      <td>-0.033614</td>\n",
       "    </tr>\n",
       "    <tr>\n",
       "      <th>5</th>\n",
       "      <td>Code</td>\n",
       "      <td>0.943328</td>\n",
       "    </tr>\n",
       "    <tr>\n",
       "      <th>6</th>\n",
       "      <td>Vehicle</td>\n",
       "      <td>0.029679</td>\n",
       "    </tr>\n",
       "    <tr>\n",
       "      <th>7</th>\n",
       "      <td>Min Gap</td>\n",
       "      <td>0.245206</td>\n",
       "    </tr>\n",
       "  </tbody>\n",
       "</table>\n",
       "</div>"
      ],
      "text/plain": [
       "   feature  cor_value\n",
       "0      Day  -0.013506\n",
       "1     Time  -0.009919\n",
       "2     Date  -0.005982\n",
       "3  Station  -0.019113\n",
       "4     Line  -0.033614\n",
       "5     Code   0.943328\n",
       "6  Vehicle   0.029679\n",
       "7  Min Gap   0.245206"
      ]
     },
     "execution_count": 14,
     "metadata": {},
     "output_type": "execute_result"
    }
   ],
   "source": [
    "# Pearson Correlation\n",
    "\n",
    "cor_list = []\n",
    "feature_name = X.columns.tolist()\n",
    "# calculate the correlation with y for each feature\n",
    "for i in X.columns.tolist():\n",
    "    cor = np.corrcoef(X[i], y)[0,1]\n",
    "    cor_list.append(cor)\n",
    "    num_feats = 8\n",
    "    \n",
    "cor_list = [0if np.isnan(i) else i for i in cor_list]\n",
    "cor_feature = X.iloc[:,np.argsort(np.abs(cor_list))[-num_feats:]].columns.tolist()\n",
    "cor_support = [True if i in cor_feature else False for i in feature_name]\n",
    "cor_feature,cor_support, cor_list\n",
    "pd.DataFrame({\"feature\":cor_feature, 'cor_value': cor_list})"
   ]
  },
  {
   "cell_type": "code",
   "execution_count": 15,
   "id": "2f7c1425",
   "metadata": {},
   "outputs": [],
   "source": [
    "from sklearn.preprocessing import MinMaxScaler\n",
    "X_norm = MinMaxScaler().fit_transform(X)"
   ]
  },
  {
   "cell_type": "code",
   "execution_count": 76,
   "id": "80ac66fe",
   "metadata": {},
   "outputs": [],
   "source": [
    "# Chi squared\n",
    "\n",
    "from sklearn.feature_selection import SelectKBest\n",
    "from sklearn.feature_selection import chi2\n",
    "\n",
    "def chi_squared_selector(X, y, num_feats):\n",
    "    chi_selector = SelectKBest(chi2, k=num_feats)\n",
    "    chi_selector.fit(X_norm, y)\n",
    "    chi_support = chi_selector.get_support()\n",
    "    chi_feature = X.loc[:,chi_support].columns.tolist()\n",
    "    return chi_support, chi_feature"
   ]
  },
  {
   "cell_type": "code",
   "execution_count": 77,
   "id": "373d3551",
   "metadata": {},
   "outputs": [
    {
     "name": "stdout",
     "output_type": "stream",
     "text": [
      "6 selected features\n"
     ]
    }
   ],
   "source": [
    "chi_support, chi_feature = chi_squared_selector(X, y,num_feats)\n",
    "print(str(len(chi_feature)), 'selected features')"
   ]
  },
  {
   "cell_type": "code",
   "execution_count": 78,
   "id": "0d9a0ab3",
   "metadata": {},
   "outputs": [],
   "source": [
    "# Recursive Feature Elimination\n",
    "\n",
    "from sklearn.feature_selection import RFE\n",
    "from sklearn.linear_model import LogisticRegression\n",
    "\n",
    "def rfe_selector(X, y, num_feats):\n",
    "    rfe_selector = RFE(estimator=LogisticRegression(), n_features_to_select=num_feats, step=10, verbose=5)\n",
    "    rfe_selector.fit(X, y)\n",
    "    rfe_support = rfe_selector.get_support()\n",
    "    rfe_feature = X.loc[:,rfe_support].columns.tolist()\n",
    "    return rfe_support, rfe_feature"
   ]
  },
  {
   "cell_type": "code",
   "execution_count": null,
   "id": "d760ae74",
   "metadata": {},
   "outputs": [
    {
     "name": "stdout",
     "output_type": "stream",
     "text": [
      "Fitting estimator with 8 features.\n"
     ]
    }
   ],
   "source": [
    "rfe_support, rfe_feature = rfe_selector(X, y,num_feats)\n",
    "print(str(len(rfe_feature)), 'selected features')"
   ]
  },
  {
   "cell_type": "code",
   "execution_count": 528,
   "id": "5cdc7e8e",
   "metadata": {},
   "outputs": [
    {
     "data": {
      "text/plain": [
       "['Date', 'Time', 'Station', 'Code', 'Min Gap', 'Line']"
      ]
     },
     "execution_count": 528,
     "metadata": {},
     "output_type": "execute_result"
    }
   ],
   "source": [
    "rfe_feature"
   ]
  },
  {
   "cell_type": "code",
   "execution_count": 529,
   "id": "84d51b75",
   "metadata": {},
   "outputs": [],
   "source": [
    "# Embedded RandomForestClassifier\n",
    "\n",
    "\n",
    "from sklearn.feature_selection import SelectFromModel\n",
    "from sklearn.ensemble import RandomForestClassifier\n",
    "\n",
    "def embedded_rf_selector(X, y, num_feats):\n",
    "    embedded_rf_selector = SelectFromModel(RandomForestClassifier(n_estimators=100), max_features=num_feats)\n",
    "    embedded_rf_selector.fit(X, y)\n",
    "    embedded_rf_support = embedded_rf_selector.get_support()\n",
    "    embedded_rf_feature = X.loc[:,embedded_rf_support].columns.tolist()\n",
    "    return embedded_rf_support, embedded_rf_feature"
   ]
  },
  {
   "cell_type": "code",
   "execution_count": 530,
   "id": "b9f61f00",
   "metadata": {},
   "outputs": [
    {
     "name": "stdout",
     "output_type": "stream",
     "text": [
      "1 selected features\n"
     ]
    }
   ],
   "source": [
    "embedded_rf_support, embedded_rf_feature = embedded_rf_selector(X, y, num_feats)\n",
    "print(str(len(embedded_rf_feature)), 'selected features')"
   ]
  },
  {
   "cell_type": "code",
   "execution_count": 531,
   "id": "8f3160b6",
   "metadata": {},
   "outputs": [
    {
     "data": {
      "text/plain": [
       "['Min Gap']"
      ]
     },
     "execution_count": 531,
     "metadata": {},
     "output_type": "execute_result"
    }
   ],
   "source": [
    "embedded_rf_feature"
   ]
  },
  {
   "cell_type": "code",
   "execution_count": null,
   "id": "e9c13bae",
   "metadata": {},
   "outputs": [],
   "source": [
    "print(f' Chi-squared: {(chi_feature)}')\n",
    "print(f' Recursive Feature Elimination: {(rfe_feature)}')\n",
    "print(f' Embedded RandomForestClassifier: {(embedded_rf_feature)}')"
   ]
  },
  {
   "cell_type": "markdown",
   "id": "8b11ec8e",
   "metadata": {},
   "source": [
    "## Define X for selected features from Feature Selection Methods\n"
   ]
  },
  {
   "cell_type": "code",
   "execution_count": 73,
   "id": "bc23000a",
   "metadata": {},
   "outputs": [
    {
     "data": {
      "text/html": [
       "<div>\n",
       "<style scoped>\n",
       "    .dataframe tbody tr th:only-of-type {\n",
       "        vertical-align: middle;\n",
       "    }\n",
       "\n",
       "    .dataframe tbody tr th {\n",
       "        vertical-align: top;\n",
       "    }\n",
       "\n",
       "    .dataframe thead th {\n",
       "        text-align: right;\n",
       "    }\n",
       "</style>\n",
       "<table border=\"1\" class=\"dataframe\">\n",
       "  <thead>\n",
       "    <tr style=\"text-align: right;\">\n",
       "      <th></th>\n",
       "      <th>Date</th>\n",
       "      <th>Time</th>\n",
       "      <th>Station</th>\n",
       "      <th>Min Gap</th>\n",
       "      <th>Code</th>\n",
       "    </tr>\n",
       "  </thead>\n",
       "  <tbody>\n",
       "    <tr>\n",
       "      <th>0</th>\n",
       "      <td>0</td>\n",
       "      <td>966</td>\n",
       "      <td>206</td>\n",
       "      <td>7</td>\n",
       "      <td>181</td>\n",
       "    </tr>\n",
       "    <tr>\n",
       "      <th>1</th>\n",
       "      <td>0</td>\n",
       "      <td>1000</td>\n",
       "      <td>417</td>\n",
       "      <td>0</td>\n",
       "      <td>91</td>\n",
       "    </tr>\n",
       "    <tr>\n",
       "      <th>2</th>\n",
       "      <td>0</td>\n",
       "      <td>1030</td>\n",
       "      <td>296</td>\n",
       "      <td>8</td>\n",
       "      <td>181</td>\n",
       "    </tr>\n",
       "    <tr>\n",
       "      <th>3</th>\n",
       "      <td>0</td>\n",
       "      <td>1040</td>\n",
       "      <td>27</td>\n",
       "      <td>10</td>\n",
       "      <td>101</td>\n",
       "    </tr>\n",
       "    <tr>\n",
       "      <th>4</th>\n",
       "      <td>0</td>\n",
       "      <td>1049</td>\n",
       "      <td>106</td>\n",
       "      <td>0</td>\n",
       "      <td>95</td>\n",
       "    </tr>\n",
       "    <tr>\n",
       "      <th>...</th>\n",
       "      <td>...</td>\n",
       "      <td>...</td>\n",
       "      <td>...</td>\n",
       "      <td>...</td>\n",
       "      <td>...</td>\n",
       "    </tr>\n",
       "    <tr>\n",
       "      <th>143135</th>\n",
       "      <td>2045</td>\n",
       "      <td>683</td>\n",
       "      <td>463</td>\n",
       "      <td>0</td>\n",
       "      <td>90</td>\n",
       "    </tr>\n",
       "    <tr>\n",
       "      <th>143136</th>\n",
       "      <td>2045</td>\n",
       "      <td>1199</td>\n",
       "      <td>516</td>\n",
       "      <td>0</td>\n",
       "      <td>93</td>\n",
       "    </tr>\n",
       "    <tr>\n",
       "      <th>143137</th>\n",
       "      <td>2045</td>\n",
       "      <td>220</td>\n",
       "      <td>317</td>\n",
       "      <td>0</td>\n",
       "      <td>90</td>\n",
       "    </tr>\n",
       "    <tr>\n",
       "      <th>143138</th>\n",
       "      <td>2045</td>\n",
       "      <td>770</td>\n",
       "      <td>317</td>\n",
       "      <td>14</td>\n",
       "      <td>103</td>\n",
       "    </tr>\n",
       "    <tr>\n",
       "      <th>143139</th>\n",
       "      <td>2045</td>\n",
       "      <td>45</td>\n",
       "      <td>317</td>\n",
       "      <td>10</td>\n",
       "      <td>204</td>\n",
       "    </tr>\n",
       "  </tbody>\n",
       "</table>\n",
       "<p>142595 rows × 5 columns</p>\n",
       "</div>"
      ],
      "text/plain": [
       "        Date  Time  Station  Min Gap  Code\n",
       "0          0   966      206        7   181\n",
       "1          0  1000      417        0    91\n",
       "2          0  1030      296        8   181\n",
       "3          0  1040       27       10   101\n",
       "4          0  1049      106        0    95\n",
       "...      ...   ...      ...      ...   ...\n",
       "143135  2045   683      463        0    90\n",
       "143136  2045  1199      516        0    93\n",
       "143137  2045   220      317        0    90\n",
       "143138  2045   770      317       14   103\n",
       "143139  2045    45      317       10   204\n",
       "\n",
       "[142595 rows x 5 columns]"
      ]
     },
     "execution_count": 73,
     "metadata": {},
     "output_type": "execute_result"
    }
   ],
   "source": [
    "X = df[['Date', 'Time', 'Station', 'Min Gap', 'Code']]\n",
    "X"
   ]
  },
  {
   "cell_type": "markdown",
   "id": "d827ab76",
   "metadata": {},
   "source": [
    "## Train test split"
   ]
  },
  {
   "cell_type": "code",
   "execution_count": 15,
   "id": "f45ce747",
   "metadata": {},
   "outputs": [
    {
     "name": "stdout",
     "output_type": "stream",
     "text": [
      "(106946, 5)\n",
      "(35649, 5)\n",
      "(106946,)\n",
      "(35649,)\n"
     ]
    }
   ],
   "source": [
    "from sklearn.model_selection import train_test_split\n",
    "X_train, X_test, y_train, y_test = train_test_split(X,\n",
    "                                                   y,\n",
    "                                                    test_size = 0.25,\n",
    "                                                  random_state=0)\n",
    "\n",
    "print(X_train.shape)\n",
    "print(X_test.shape)\n",
    "print(y_train.shape)\n",
    "print(y_test.shape)"
   ]
  },
  {
   "cell_type": "markdown",
   "id": "0e1717ae",
   "metadata": {},
   "source": [
    "## Model Training"
   ]
  },
  {
   "cell_type": "code",
   "execution_count": 16,
   "id": "ebf24c0b",
   "metadata": {},
   "outputs": [
    {
     "name": "stdout",
     "output_type": "stream",
     "text": [
      " Linear Regression Test Accuracy: 0.8901907365208289\n"
     ]
    }
   ],
   "source": [
    "# Algorithm - Linear Regression\n",
    "\n",
    "from sklearn.linear_model import LinearRegression\n",
    "from sklearn.metrics import r2_score\n",
    "\n",
    "lin_model = LinearRegression()\n",
    "\n",
    "lin_model = lin_model.fit(X_train, y_train)\n",
    "lin_model\n",
    "\n",
    "lin_r2 = r2_score(y_test, lin_model.predict(X_test))\n",
    "print(f' Linear Regression Test Accuracy: {(lin_r2)}')"
   ]
  },
  {
   "cell_type": "code",
   "execution_count": 18,
   "id": "303e639a",
   "metadata": {},
   "outputs": [
    {
     "name": "stdout",
     "output_type": "stream",
     "text": [
      " Random Forest Regressor Test Accuracy: 0.9452888781323181\n"
     ]
    }
   ],
   "source": [
    "# Algorithm - Random Forest Regressor\n",
    "\n",
    "from sklearn.ensemble import RandomForestRegressor\n",
    "\n",
    "rfr = RandomForestRegressor(n_estimators=100, random_state =0, n_jobs=-1)\n",
    "rfr.fit(X_train, y_train)\n",
    "rfr\n",
    "\n",
    "rfr_r2 = r2_score(y_test, rfr.predict(X_test))\n",
    "print(f' Random Forest Regressor Test Accuracy: {(rfr_r2)}')"
   ]
  },
  {
   "cell_type": "code",
   "execution_count": 19,
   "id": "710b45e4",
   "metadata": {},
   "outputs": [
    {
     "name": "stdout",
     "output_type": "stream",
     "text": [
      " Decision Tree Regressor Test Accuracy: 0.9083528731811269\n"
     ]
    }
   ],
   "source": [
    "# Algorithm - Decision Tree Regressor\n",
    "\n",
    "from sklearn.tree import DecisionTreeRegressor\n",
    "\n",
    "dtr = DecisionTreeRegressor(random_state=0)\n",
    "dtr.fit(X_train, y_train)\n",
    "dtr\n",
    "\n",
    "dtr_r2 = r2_score(y_test, dtr.predict(X_test))\n",
    "print(f' Decision Tree Regressor Test Accuracy: {(dtr_r2)}')"
   ]
  },
  {
   "cell_type": "markdown",
   "id": "15865e8d",
   "metadata": {},
   "source": [
    "# Results\n",
    "\n",
    "## The highest accuracy was acheived by the Random Forest Regressor model with an r2 score of 94%"
   ]
  },
  {
   "cell_type": "code",
   "execution_count": 20,
   "id": "ebccc54f",
   "metadata": {},
   "outputs": [
    {
     "name": "stdout",
     "output_type": "stream",
     "text": [
      " Linear Regression Test Accuracy: 0.8901907365208289\n",
      " Random Forest Regressor Test Accuracy: 0.9452888781323181\n",
      " Decision Tree Regressor Test Accuracy: 0.9083528731811269\n"
     ]
    }
   ],
   "source": [
    "print(f' Linear Regression Test Accuracy: {(lin_r2)}')\n",
    "print(f' Random Forest Regressor Test Accuracy: {(rfr_r2)}')\n",
    "print(f' Decision Tree Regressor Test Accuracy: {(dtr_r2)}')"
   ]
  },
  {
   "cell_type": "code",
   "execution_count": 21,
   "id": "429bd4ed",
   "metadata": {},
   "outputs": [
    {
     "data": {
      "text/plain": [
       "array([0.  , 5.81, 0.  , ..., 0.  , 0.  , 0.  ])"
      ]
     },
     "execution_count": 21,
     "metadata": {},
     "output_type": "execute_result"
    }
   ],
   "source": [
    "#YPred - RandomForestRegressor\n",
    "\n",
    "y_pred = rfr.predict(X_test)\n",
    "y_pred"
   ]
  },
  {
   "cell_type": "markdown",
   "id": "dc630e69",
   "metadata": {},
   "source": [
    "## Actual and Predicted values from RandomForestRegressor model"
   ]
  },
  {
   "cell_type": "code",
   "execution_count": 22,
   "id": "327837b3",
   "metadata": {
    "scrolled": true
   },
   "outputs": [
    {
     "data": {
      "text/html": [
       "<div>\n",
       "<style scoped>\n",
       "    .dataframe tbody tr th:only-of-type {\n",
       "        vertical-align: middle;\n",
       "    }\n",
       "\n",
       "    .dataframe tbody tr th {\n",
       "        vertical-align: top;\n",
       "    }\n",
       "\n",
       "    .dataframe thead th {\n",
       "        text-align: right;\n",
       "    }\n",
       "</style>\n",
       "<table border=\"1\" class=\"dataframe\">\n",
       "  <thead>\n",
       "    <tr style=\"text-align: right;\">\n",
       "      <th></th>\n",
       "      <th>Actual</th>\n",
       "      <th>Predicted</th>\n",
       "    </tr>\n",
       "  </thead>\n",
       "  <tbody>\n",
       "    <tr>\n",
       "      <th>53562</th>\n",
       "      <td>0</td>\n",
       "      <td>0.00</td>\n",
       "    </tr>\n",
       "    <tr>\n",
       "      <th>49795</th>\n",
       "      <td>7</td>\n",
       "      <td>5.81</td>\n",
       "    </tr>\n",
       "    <tr>\n",
       "      <th>87533</th>\n",
       "      <td>0</td>\n",
       "      <td>0.00</td>\n",
       "    </tr>\n",
       "    <tr>\n",
       "      <th>18979</th>\n",
       "      <td>4</td>\n",
       "      <td>4.24</td>\n",
       "    </tr>\n",
       "    <tr>\n",
       "      <th>57912</th>\n",
       "      <td>0</td>\n",
       "      <td>0.00</td>\n",
       "    </tr>\n",
       "    <tr>\n",
       "      <th>...</th>\n",
       "      <td>...</td>\n",
       "      <td>...</td>\n",
       "    </tr>\n",
       "    <tr>\n",
       "      <th>131295</th>\n",
       "      <td>4</td>\n",
       "      <td>3.91</td>\n",
       "    </tr>\n",
       "    <tr>\n",
       "      <th>69109</th>\n",
       "      <td>0</td>\n",
       "      <td>0.00</td>\n",
       "    </tr>\n",
       "    <tr>\n",
       "      <th>130243</th>\n",
       "      <td>0</td>\n",
       "      <td>0.00</td>\n",
       "    </tr>\n",
       "    <tr>\n",
       "      <th>33781</th>\n",
       "      <td>0</td>\n",
       "      <td>0.00</td>\n",
       "    </tr>\n",
       "    <tr>\n",
       "      <th>88979</th>\n",
       "      <td>0</td>\n",
       "      <td>0.00</td>\n",
       "    </tr>\n",
       "  </tbody>\n",
       "</table>\n",
       "<p>35649 rows × 2 columns</p>\n",
       "</div>"
      ],
      "text/plain": [
       "        Actual  Predicted\n",
       "53562        0       0.00\n",
       "49795        7       5.81\n",
       "87533        0       0.00\n",
       "18979        4       4.24\n",
       "57912        0       0.00\n",
       "...        ...        ...\n",
       "131295       4       3.91\n",
       "69109        0       0.00\n",
       "130243       0       0.00\n",
       "33781        0       0.00\n",
       "88979        0       0.00\n",
       "\n",
       "[35649 rows x 2 columns]"
      ]
     },
     "execution_count": 22,
     "metadata": {},
     "output_type": "execute_result"
    }
   ],
   "source": [
    "result = pd.DataFrame({'Actual': y_test, 'Predicted': y_pred})\n",
    "result.iloc[:10,:]\n",
    "result"
   ]
  },
  {
   "cell_type": "markdown",
   "id": "f7eb8634",
   "metadata": {},
   "source": [
    "## Bar plot of actual and predicted values"
   ]
  },
  {
   "cell_type": "code",
   "execution_count": 67,
   "id": "c9944a6a",
   "metadata": {},
   "outputs": [
    {
     "data": {
      "image/png": "[encoded data removed]",
      "text/plain": [
       "<Figure size 720x720 with 1 Axes>"
      ]
     },
     "metadata": {
      "needs_background": "light"
     },
     "output_type": "display_data"
    }
   ],
   "source": [
    "result = pd.DataFrame({'Actual': y_test, 'Predicted': y_pred})\n",
    "result = result[(result.T != 0).any()]\n",
    "result\n",
    "\n",
    "\n",
    "    \n",
    "result.iloc[:10,:]\n",
    "\n",
    "\n",
    "actual = result['Actual'][:20].tolist()\n",
    "predicted = result['Predicted'][:20].tolist()\n",
    "actual,predicted\n",
    "\n",
    "\n",
    "\n",
    "plt.figure(figsize = (10, 10))\n",
    "\n",
    "X_axis = np.arange(len(actual))\n",
    " \n",
    "\n",
    "# fig, ax = plt.subplots()\n",
    "plt.barh(X_axis -0.2, actual, 0.4, color=\"blue\", label = 'Actual')\n",
    "# plt.bar(X_axis - 0.2, actual, 0.4, label = 'Actual')\n",
    "for i, v in enumerate(actual):\n",
    "    plt.text(v, i-.4 , str(v), color='blue', fontweight='bold')\n",
    "plt.barh(X_axis + 0.2, predicted, 0.4, label = 'Predicted', color = 'orange')\n",
    "for j, s in enumerate(predicted):\n",
    "    plt.text(s, j+.1, str(s), color='blue', fontweight='bold')\n",
    "\n",
    "# plt.xticks(X_axis, X)\n",
    "plt.xlabel(\"Delay in Minutes\")\n",
    "# plt.ylabel(\"in Minutes\")\n",
    "plt.title(\"Actual vs Predicted\")\n",
    "plt.legend()\n",
    "plt.show()"
   ]
  },
  {
   "cell_type": "markdown",
   "id": "24cfcc22",
   "metadata": {},
   "source": [
    "## Best hyperparameters for Random Forest Regressor model"
   ]
  },
  {
   "cell_type": "code",
   "execution_count": 74,
   "id": "99c3a4b5",
   "metadata": {},
   "outputs": [
    {
     "name": "stdout",
     "output_type": "stream",
     "text": [
      "(99816, 5)\n",
      "(42779, 5)\n",
      "(99816,)\n",
      "(42779,)\n"
     ]
    }
   ],
   "source": [
    "from sklearn.model_selection import train_test_split\n",
    "X_train, X_test, y_train, y_test = train_test_split(X,\n",
    "                                                   y,\n",
    "                                                    test_size = 0.30,\n",
    "                                                  random_state=0)\n",
    "\n",
    "print(X_train.shape)\n",
    "print(X_test.shape)\n",
    "print(y_train.shape)\n",
    "print(y_test.shape)"
   ]
  },
  {
   "cell_type": "code",
   "execution_count": 48,
   "id": "2d1de33d",
   "metadata": {},
   "outputs": [],
   "source": [
    "rfr2 = RandomForestRegressor(random_state=0, n_jobs=-1)"
   ]
  },
  {
   "cell_type": "code",
   "execution_count": 49,
   "id": "86feb353",
   "metadata": {},
   "outputs": [],
   "source": [
    "param_grid = {'n_estimators': np.arange(100,500),\n",
    "             'max_depth': np.arange(3,10),\n",
    "             'min_samples_split': [2, 5, 10]}"
   ]
  },
  {
   "cell_type": "code",
   "execution_count": 52,
   "id": "2c8bc81f",
   "metadata": {},
   "outputs": [],
   "source": [
    "from sklearn.model_selection import RandomizedSearchCV\n",
    "rscv = RandomizedSearchCV(rfr2, param_grid, n_iter=50, n_jobs=-1)"
   ]
  },
  {
   "cell_type": "code",
   "execution_count": 53,
   "id": "c303d6bb",
   "metadata": {},
   "outputs": [],
   "source": [
    "rfr_model = rscv.fit(X_train, y_train)"
   ]
  },
  {
   "cell_type": "code",
   "execution_count": 57,
   "id": "56980ec8",
   "metadata": {},
   "outputs": [
    {
     "data": {
      "text/plain": [
       "RandomForestRegressor(max_depth=9, min_samples_split=10, n_estimators=437,\n",
       "                      n_jobs=-1, random_state=0)"
      ]
     },
     "execution_count": 57,
     "metadata": {},
     "output_type": "execute_result"
    }
   ],
   "source": [
    "rfr_model.best_estimator_"
   ]
  },
  {
   "cell_type": "code",
   "execution_count": 59,
   "id": "45e22cb4",
   "metadata": {},
   "outputs": [],
   "source": [
    "rfr_best = rfr_model.best_estimator_.fit(X_train, y_train)"
   ]
  },
  {
   "cell_type": "code",
   "execution_count": 78,
   "id": "2ec118be",
   "metadata": {},
   "outputs": [
    {
     "name": "stdout",
     "output_type": "stream",
     "text": [
      " Best Random Forest Regressor Test Accuracy: 0.9486170215682657\n"
     ]
    }
   ],
   "source": [
    "rfrbest_r2 = r2_score(y_test, rfr_best.predict(X_test))\n",
    "print(f' Best Random Forest Regressor Test Accuracy: {(rfrbest_r2)}')"
   ]
  },
  {
   "cell_type": "code",
   "execution_count": 75,
   "id": "6bc4c330",
   "metadata": {},
   "outputs": [],
   "source": [
    "rfr_best1 = RandomForestRegressor(max_depth=9, min_samples_split=10, n_estimators=850,\n",
    "                      n_jobs=-1, random_state=0)"
   ]
  },
  {
   "cell_type": "code",
   "execution_count": 76,
   "id": "78c85a6b",
   "metadata": {},
   "outputs": [],
   "source": [
    "rfr_best1 = rfr_best1.fit(X_train, y_train)"
   ]
  },
  {
   "cell_type": "code",
   "execution_count": 77,
   "id": "0924fc53",
   "metadata": {},
   "outputs": [
    {
     "data": {
      "text/plain": [
       "0.9473111024983318"
      ]
     },
     "execution_count": 77,
     "metadata": {},
     "output_type": "execute_result"
    }
   ],
   "source": [
    "rfr_best1_r2 = r2_score(y_test, rfr_best1.predict(X_test))\n",
    "rfr_best1_r2"
   ]
  },
  {
   "cell_type": "markdown",
   "id": "96823b1d",
   "metadata": {},
   "source": [
    "## The Random Forest Regressor is the best model for predicting TTC subway delay times in terms of accuracy. \n",
    "### Best hyperparamters for the model were then selected using RandomizedSearchCV and boosted the accuracy from the original 94.5% to 94.8%."
   ]
  }
 ],
 "metadata": {
  "kernelspec": {
   "display_name": "Python 3 (ipykernel)",
   "language": "python",
   "name": "python3"
  },
  "language_info": {
   "codemirror_mode": {
    "name": "ipython",
    "version": 3
   },
   "file_extension": ".py",
   "mimetype": "text/x-python",
   "name": "python",
   "nbconvert_exporter": "python",
   "pygments_lexer": "ipython3",
   "version": "3.10.1"
  }
 },
 "nbformat": 4,
 "nbformat_minor": 5
}
