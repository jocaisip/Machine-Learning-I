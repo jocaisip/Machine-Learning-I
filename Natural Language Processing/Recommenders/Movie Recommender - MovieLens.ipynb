{
 "cells": [
  {
   "cell_type": "code",
   "execution_count": 1,
   "metadata": {
    "execution": {
     "iopub.execute_input": "2021-11-17T17:41:25.594336Z",
     "iopub.status.busy": "2021-11-17T17:41:25.593851Z",
     "iopub.status.idle": "2021-11-17T17:41:26.668138Z",
     "shell.execute_reply": "2021-11-17T17:41:26.667272Z",
     "shell.execute_reply.started": "2021-11-17T17:41:25.594200Z"
    }
   },
   "outputs": [],
   "source": [
    "import pandas as pd\n",
    "import numpy as np\n",
    "from matplotlib import pyplot as plt\n",
    "\n",
    "from sklearn.feature_extraction.text import TfidfVectorizer\n",
    "from sklearn.decomposition import TruncatedSVD\n",
    "from sklearn.metrics.pairwise import cosine_similarity\n",
    "from scipy.sparse import csr_matrix"
   ]
  },
  {
   "cell_type": "markdown",
   "metadata": {},
   "source": [
    "### Load dataset - MovieLens"
   ]
  },
  {
   "cell_type": "code",
   "execution_count": 8,
   "metadata": {
    "execution": {
     "iopub.execute_input": "2021-11-17T17:41:26.669993Z",
     "iopub.status.busy": "2021-11-17T17:41:26.669749Z",
     "iopub.status.idle": "2021-11-17T17:41:26.760227Z",
     "shell.execute_reply": "2021-11-17T17:41:26.759624Z",
     "shell.execute_reply.started": "2021-11-17T17:41:26.669962Z"
    }
   },
   "outputs": [
    {
     "data": {
      "text/html": [
       "<div>\n",
       "<style scoped>\n",
       "    .dataframe tbody tr th:only-of-type {\n",
       "        vertical-align: middle;\n",
       "    }\n",
       "\n",
       "    .dataframe tbody tr th {\n",
       "        vertical-align: top;\n",
       "    }\n",
       "\n",
       "    .dataframe thead th {\n",
       "        text-align: right;\n",
       "    }\n",
       "</style>\n",
       "<table border=\"1\" class=\"dataframe\">\n",
       "  <thead>\n",
       "    <tr style=\"text-align: right;\">\n",
       "      <th></th>\n",
       "      <th>movieId</th>\n",
       "      <th>title</th>\n",
       "      <th>genres</th>\n",
       "    </tr>\n",
       "  </thead>\n",
       "  <tbody>\n",
       "    <tr>\n",
       "      <th>0</th>\n",
       "      <td>1</td>\n",
       "      <td>Toy Story (1995)</td>\n",
       "      <td>Adventure|Animation|Children|Comedy|Fantasy</td>\n",
       "    </tr>\n",
       "    <tr>\n",
       "      <th>1</th>\n",
       "      <td>2</td>\n",
       "      <td>Jumanji (1995)</td>\n",
       "      <td>Adventure|Children|Fantasy</td>\n",
       "    </tr>\n",
       "    <tr>\n",
       "      <th>2</th>\n",
       "      <td>3</td>\n",
       "      <td>Grumpier Old Men (1995)</td>\n",
       "      <td>Comedy|Romance</td>\n",
       "    </tr>\n",
       "    <tr>\n",
       "      <th>3</th>\n",
       "      <td>4</td>\n",
       "      <td>Waiting to Exhale (1995)</td>\n",
       "      <td>Comedy|Drama|Romance</td>\n",
       "    </tr>\n",
       "    <tr>\n",
       "      <th>4</th>\n",
       "      <td>5</td>\n",
       "      <td>Father of the Bride Part II (1995)</td>\n",
       "      <td>Comedy</td>\n",
       "    </tr>\n",
       "  </tbody>\n",
       "</table>\n",
       "</div>"
      ],
      "text/plain": [
       "   movieId                               title  \\\n",
       "0        1                    Toy Story (1995)   \n",
       "1        2                      Jumanji (1995)   \n",
       "2        3             Grumpier Old Men (1995)   \n",
       "3        4            Waiting to Exhale (1995)   \n",
       "4        5  Father of the Bride Part II (1995)   \n",
       "\n",
       "                                        genres  \n",
       "0  Adventure|Animation|Children|Comedy|Fantasy  \n",
       "1                   Adventure|Children|Fantasy  \n",
       "2                               Comedy|Romance  \n",
       "3                         Comedy|Drama|Romance  \n",
       "4                                       Comedy  "
      ]
     },
     "execution_count": 8,
     "metadata": {},
     "output_type": "execute_result"
    }
   ],
   "source": [
    "movies = pd.read_csv('movies.csv')\n",
    "ratings = pd.read_csv(\"ratings.csv\")\n",
    "tags = pd.read_csv(\"tags.csv\")\n",
    "\n",
    "movies.head()"
   ]
  },
  {
   "cell_type": "code",
   "execution_count": 10,
   "metadata": {
    "execution": {
     "iopub.execute_input": "2021-11-17T17:42:07.426674Z",
     "iopub.status.busy": "2021-11-17T17:42:07.426378Z",
     "iopub.status.idle": "2021-11-17T17:42:07.499227Z",
     "shell.execute_reply": "2021-11-17T17:42:07.498399Z",
     "shell.execute_reply.started": "2021-11-17T17:42:07.426643Z"
    }
   },
   "outputs": [],
   "source": [
    "tags = tags.fillna(\"\")"
   ]
  },
  {
   "cell_type": "markdown",
   "metadata": {},
   "source": [
    "#### Ratings data reduced to 5 million due to pivot table error"
   ]
  },
  {
   "cell_type": "code",
   "execution_count": 11,
   "metadata": {
    "execution": {
     "iopub.execute_input": "2021-11-17T17:50:36.731535Z",
     "iopub.status.busy": "2021-11-17T17:50:36.731053Z",
     "iopub.status.idle": "2021-11-17T17:50:36.758745Z",
     "shell.execute_reply": "2021-11-17T17:50:36.757472Z",
     "shell.execute_reply.started": "2021-11-17T17:50:36.731488Z"
    }
   },
   "outputs": [
    {
     "data": {
      "text/html": [
       "<div>\n",
       "<style scoped>\n",
       "    .dataframe tbody tr th:only-of-type {\n",
       "        vertical-align: middle;\n",
       "    }\n",
       "\n",
       "    .dataframe tbody tr th {\n",
       "        vertical-align: top;\n",
       "    }\n",
       "\n",
       "    .dataframe thead th {\n",
       "        text-align: right;\n",
       "    }\n",
       "</style>\n",
       "<table border=\"1\" class=\"dataframe\">\n",
       "  <thead>\n",
       "    <tr style=\"text-align: right;\">\n",
       "      <th></th>\n",
       "      <th>userId</th>\n",
       "      <th>movieId</th>\n",
       "      <th>rating</th>\n",
       "      <th>timestamp</th>\n",
       "    </tr>\n",
       "  </thead>\n",
       "  <tbody>\n",
       "    <tr>\n",
       "      <th>0</th>\n",
       "      <td>1</td>\n",
       "      <td>2</td>\n",
       "      <td>3.5</td>\n",
       "      <td>1112486027</td>\n",
       "    </tr>\n",
       "    <tr>\n",
       "      <th>1</th>\n",
       "      <td>1</td>\n",
       "      <td>29</td>\n",
       "      <td>3.5</td>\n",
       "      <td>1112484676</td>\n",
       "    </tr>\n",
       "    <tr>\n",
       "      <th>2</th>\n",
       "      <td>1</td>\n",
       "      <td>32</td>\n",
       "      <td>3.5</td>\n",
       "      <td>1112484819</td>\n",
       "    </tr>\n",
       "    <tr>\n",
       "      <th>3</th>\n",
       "      <td>1</td>\n",
       "      <td>47</td>\n",
       "      <td>3.5</td>\n",
       "      <td>1112484727</td>\n",
       "    </tr>\n",
       "    <tr>\n",
       "      <th>4</th>\n",
       "      <td>1</td>\n",
       "      <td>50</td>\n",
       "      <td>3.5</td>\n",
       "      <td>1112484580</td>\n",
       "    </tr>\n",
       "    <tr>\n",
       "      <th>...</th>\n",
       "      <td>...</td>\n",
       "      <td>...</td>\n",
       "      <td>...</td>\n",
       "      <td>...</td>\n",
       "    </tr>\n",
       "    <tr>\n",
       "      <th>4999995</th>\n",
       "      <td>34395</td>\n",
       "      <td>1805</td>\n",
       "      <td>2.5</td>\n",
       "      <td>1138696726</td>\n",
       "    </tr>\n",
       "    <tr>\n",
       "      <th>4999996</th>\n",
       "      <td>34395</td>\n",
       "      <td>1826</td>\n",
       "      <td>0.5</td>\n",
       "      <td>1138309379</td>\n",
       "    </tr>\n",
       "    <tr>\n",
       "      <th>4999997</th>\n",
       "      <td>34395</td>\n",
       "      <td>1835</td>\n",
       "      <td>2.5</td>\n",
       "      <td>1138262152</td>\n",
       "    </tr>\n",
       "    <tr>\n",
       "      <th>4999998</th>\n",
       "      <td>34395</td>\n",
       "      <td>1863</td>\n",
       "      <td>2.0</td>\n",
       "      <td>1138308785</td>\n",
       "    </tr>\n",
       "    <tr>\n",
       "      <th>4999999</th>\n",
       "      <td>34395</td>\n",
       "      <td>1866</td>\n",
       "      <td>3.0</td>\n",
       "      <td>1138264992</td>\n",
       "    </tr>\n",
       "  </tbody>\n",
       "</table>\n",
       "<p>5000000 rows × 4 columns</p>\n",
       "</div>"
      ],
      "text/plain": [
       "         userId  movieId  rating   timestamp\n",
       "0             1        2     3.5  1112486027\n",
       "1             1       29     3.5  1112484676\n",
       "2             1       32     3.5  1112484819\n",
       "3             1       47     3.5  1112484727\n",
       "4             1       50     3.5  1112484580\n",
       "...         ...      ...     ...         ...\n",
       "4999995   34395     1805     2.5  1138696726\n",
       "4999996   34395     1826     0.5  1138309379\n",
       "4999997   34395     1835     2.5  1138262152\n",
       "4999998   34395     1863     2.0  1138308785\n",
       "4999999   34395     1866     3.0  1138264992\n",
       "\n",
       "[5000000 rows x 4 columns]"
      ]
     },
     "execution_count": 11,
     "metadata": {},
     "output_type": "execute_result"
    }
   ],
   "source": [
    "ratings_5m = ratings[:5000000]\n",
    "ratings_5m"
   ]
  },
  {
   "cell_type": "markdown",
   "metadata": {},
   "source": [
    "### User-item Matrix"
   ]
  },
  {
   "cell_type": "code",
   "execution_count": 12,
   "metadata": {
    "execution": {
     "iopub.execute_input": "2021-11-17T17:50:45.989466Z",
     "iopub.status.busy": "2021-11-17T17:50:45.989063Z",
     "iopub.status.idle": "2021-11-17T17:51:04.607629Z",
     "shell.execute_reply": "2021-11-17T17:51:04.606523Z",
     "shell.execute_reply.started": "2021-11-17T17:50:45.989425Z"
    }
   },
   "outputs": [],
   "source": [
    "user_movies_data = ratings_5m.pivot(index='movieId', columns='userId', values='rating').fillna(0)"
   ]
  },
  {
   "cell_type": "code",
   "execution_count": 13,
   "metadata": {
    "execution": {
     "iopub.execute_input": "2021-11-17T17:51:14.632755Z",
     "iopub.status.busy": "2021-11-17T17:51:14.632370Z",
     "iopub.status.idle": "2021-11-17T17:51:14.640740Z",
     "shell.execute_reply": "2021-11-17T17:51:14.639684Z",
     "shell.execute_reply.started": "2021-11-17T17:51:14.632705Z"
    }
   },
   "outputs": [
    {
     "data": {
      "text/plain": [
       "(20402, 34395)"
      ]
     },
     "execution_count": 13,
     "metadata": {},
     "output_type": "execute_result"
    }
   ],
   "source": [
    "user_movies_data.shape"
   ]
  },
  {
   "cell_type": "code",
   "execution_count": 14,
   "metadata": {
    "execution": {
     "iopub.execute_input": "2021-11-17T17:51:18.275930Z",
     "iopub.status.busy": "2021-11-17T17:51:18.275097Z",
     "iopub.status.idle": "2021-11-17T17:51:18.885375Z",
     "shell.execute_reply": "2021-11-17T17:51:18.884644Z",
     "shell.execute_reply.started": "2021-11-17T17:51:18.275888Z"
    }
   },
   "outputs": [
    {
     "data": {
      "text/html": [
       "<div>\n",
       "<style scoped>\n",
       "    .dataframe tbody tr th:only-of-type {\n",
       "        vertical-align: middle;\n",
       "    }\n",
       "\n",
       "    .dataframe tbody tr th {\n",
       "        vertical-align: top;\n",
       "    }\n",
       "\n",
       "    .dataframe thead th {\n",
       "        text-align: right;\n",
       "    }\n",
       "</style>\n",
       "<table border=\"1\" class=\"dataframe\">\n",
       "  <thead>\n",
       "    <tr style=\"text-align: right;\">\n",
       "      <th></th>\n",
       "      <th>movieId</th>\n",
       "      <th>tag_metadata</th>\n",
       "    </tr>\n",
       "  </thead>\n",
       "  <tbody>\n",
       "    <tr>\n",
       "      <th>0</th>\n",
       "      <td>1</td>\n",
       "      <td>Watched computer animation Disney animated fea...</td>\n",
       "    </tr>\n",
       "    <tr>\n",
       "      <th>1</th>\n",
       "      <td>2</td>\n",
       "      <td>time travel adapted from:book board game child...</td>\n",
       "    </tr>\n",
       "    <tr>\n",
       "      <th>2</th>\n",
       "      <td>3</td>\n",
       "      <td>old people that is actually funny sequel fever...</td>\n",
       "    </tr>\n",
       "    <tr>\n",
       "      <th>3</th>\n",
       "      <td>4</td>\n",
       "      <td>chick flick revenge characters chick flick cha...</td>\n",
       "    </tr>\n",
       "    <tr>\n",
       "      <th>4</th>\n",
       "      <td>5</td>\n",
       "      <td>Diane Keaton family sequel Steve Martin weddin...</td>\n",
       "    </tr>\n",
       "    <tr>\n",
       "      <th>...</th>\n",
       "      <td>...</td>\n",
       "      <td>...</td>\n",
       "    </tr>\n",
       "    <tr>\n",
       "      <th>19540</th>\n",
       "      <td>131054</td>\n",
       "      <td>dinosaurs</td>\n",
       "    </tr>\n",
       "    <tr>\n",
       "      <th>19541</th>\n",
       "      <td>131082</td>\n",
       "      <td>documentary Yoshitomo Nara</td>\n",
       "    </tr>\n",
       "    <tr>\n",
       "      <th>19542</th>\n",
       "      <td>131164</td>\n",
       "      <td>Vietnam War</td>\n",
       "    </tr>\n",
       "    <tr>\n",
       "      <th>19543</th>\n",
       "      <td>131170</td>\n",
       "      <td>alternate reality</td>\n",
       "    </tr>\n",
       "    <tr>\n",
       "      <th>19544</th>\n",
       "      <td>131258</td>\n",
       "      <td>bandits Korea mutiny pirates whale</td>\n",
       "    </tr>\n",
       "  </tbody>\n",
       "</table>\n",
       "<p>19545 rows × 2 columns</p>\n",
       "</div>"
      ],
      "text/plain": [
       "       movieId                                       tag_metadata\n",
       "0            1  Watched computer animation Disney animated fea...\n",
       "1            2  time travel adapted from:book board game child...\n",
       "2            3  old people that is actually funny sequel fever...\n",
       "3            4  chick flick revenge characters chick flick cha...\n",
       "4            5  Diane Keaton family sequel Steve Martin weddin...\n",
       "...        ...                                                ...\n",
       "19540   131054                                          dinosaurs\n",
       "19541   131082                         documentary Yoshitomo Nara\n",
       "19542   131164                                        Vietnam War\n",
       "19543   131170                                  alternate reality\n",
       "19544   131258                 bandits Korea mutiny pirates whale\n",
       "\n",
       "[19545 rows x 2 columns]"
      ]
     },
     "execution_count": 14,
     "metadata": {},
     "output_type": "execute_result"
    }
   ],
   "source": [
    "tags1 = tags.groupby(['movieId'])['tag'].apply(' '.join).reset_index()\n",
    "tags1 = tags1.rename(columns={'tag':'tag_metadata'})\n",
    "tags1"
   ]
  },
  {
   "cell_type": "code",
   "execution_count": 15,
   "metadata": {
    "execution": {
     "iopub.execute_input": "2021-11-17T17:51:43.403516Z",
     "iopub.status.busy": "2021-11-17T17:51:43.402978Z",
     "iopub.status.idle": "2021-11-17T17:51:43.455316Z",
     "shell.execute_reply": "2021-11-17T17:51:43.454267Z",
     "shell.execute_reply.started": "2021-11-17T17:51:43.403480Z"
    }
   },
   "outputs": [
    {
     "data": {
      "text/html": [
       "<div>\n",
       "<style scoped>\n",
       "    .dataframe tbody tr th:only-of-type {\n",
       "        vertical-align: middle;\n",
       "    }\n",
       "\n",
       "    .dataframe tbody tr th {\n",
       "        vertical-align: top;\n",
       "    }\n",
       "\n",
       "    .dataframe thead th {\n",
       "        text-align: right;\n",
       "    }\n",
       "</style>\n",
       "<table border=\"1\" class=\"dataframe\">\n",
       "  <thead>\n",
       "    <tr style=\"text-align: right;\">\n",
       "      <th></th>\n",
       "      <th>movieId</th>\n",
       "      <th>title</th>\n",
       "      <th>genres</th>\n",
       "      <th>tag_metadata</th>\n",
       "    </tr>\n",
       "  </thead>\n",
       "  <tbody>\n",
       "    <tr>\n",
       "      <th>0</th>\n",
       "      <td>1</td>\n",
       "      <td>Toy Story (1995)</td>\n",
       "      <td>Adventure|Animation|Children|Comedy|Fantasy</td>\n",
       "      <td>Watched computer animation Disney animated fea...</td>\n",
       "    </tr>\n",
       "    <tr>\n",
       "      <th>1</th>\n",
       "      <td>2</td>\n",
       "      <td>Jumanji (1995)</td>\n",
       "      <td>Adventure|Children|Fantasy</td>\n",
       "      <td>time travel adapted from:book board game child...</td>\n",
       "    </tr>\n",
       "    <tr>\n",
       "      <th>2</th>\n",
       "      <td>3</td>\n",
       "      <td>Grumpier Old Men (1995)</td>\n",
       "      <td>Comedy|Romance</td>\n",
       "      <td>old people that is actually funny sequel fever...</td>\n",
       "    </tr>\n",
       "    <tr>\n",
       "      <th>3</th>\n",
       "      <td>4</td>\n",
       "      <td>Waiting to Exhale (1995)</td>\n",
       "      <td>Comedy|Drama|Romance</td>\n",
       "      <td>chick flick revenge characters chick flick cha...</td>\n",
       "    </tr>\n",
       "    <tr>\n",
       "      <th>4</th>\n",
       "      <td>5</td>\n",
       "      <td>Father of the Bride Part II (1995)</td>\n",
       "      <td>Comedy</td>\n",
       "      <td>Diane Keaton family sequel Steve Martin weddin...</td>\n",
       "    </tr>\n",
       "    <tr>\n",
       "      <th>...</th>\n",
       "      <td>...</td>\n",
       "      <td>...</td>\n",
       "      <td>...</td>\n",
       "      <td>...</td>\n",
       "    </tr>\n",
       "    <tr>\n",
       "      <th>27273</th>\n",
       "      <td>131254</td>\n",
       "      <td>Kein Bund für's Leben (2007)</td>\n",
       "      <td>Comedy</td>\n",
       "      <td></td>\n",
       "    </tr>\n",
       "    <tr>\n",
       "      <th>27274</th>\n",
       "      <td>131256</td>\n",
       "      <td>Feuer, Eis &amp; Dosenbier (2002)</td>\n",
       "      <td>Comedy</td>\n",
       "      <td></td>\n",
       "    </tr>\n",
       "    <tr>\n",
       "      <th>27275</th>\n",
       "      <td>131258</td>\n",
       "      <td>The Pirates (2014)</td>\n",
       "      <td>Adventure</td>\n",
       "      <td>bandits Korea mutiny pirates whale</td>\n",
       "    </tr>\n",
       "    <tr>\n",
       "      <th>27276</th>\n",
       "      <td>131260</td>\n",
       "      <td>Rentun Ruusu (2001)</td>\n",
       "      <td>(no genres listed)</td>\n",
       "      <td></td>\n",
       "    </tr>\n",
       "    <tr>\n",
       "      <th>27277</th>\n",
       "      <td>131262</td>\n",
       "      <td>Innocence (2014)</td>\n",
       "      <td>Adventure|Fantasy|Horror</td>\n",
       "      <td></td>\n",
       "    </tr>\n",
       "  </tbody>\n",
       "</table>\n",
       "<p>27278 rows × 4 columns</p>\n",
       "</div>"
      ],
      "text/plain": [
       "       movieId                               title  \\\n",
       "0            1                    Toy Story (1995)   \n",
       "1            2                      Jumanji (1995)   \n",
       "2            3             Grumpier Old Men (1995)   \n",
       "3            4            Waiting to Exhale (1995)   \n",
       "4            5  Father of the Bride Part II (1995)   \n",
       "...        ...                                 ...   \n",
       "27273   131254        Kein Bund für's Leben (2007)   \n",
       "27274   131256       Feuer, Eis & Dosenbier (2002)   \n",
       "27275   131258                  The Pirates (2014)   \n",
       "27276   131260                 Rentun Ruusu (2001)   \n",
       "27277   131262                    Innocence (2014)   \n",
       "\n",
       "                                            genres  \\\n",
       "0      Adventure|Animation|Children|Comedy|Fantasy   \n",
       "1                       Adventure|Children|Fantasy   \n",
       "2                                   Comedy|Romance   \n",
       "3                             Comedy|Drama|Romance   \n",
       "4                                           Comedy   \n",
       "...                                            ...   \n",
       "27273                                       Comedy   \n",
       "27274                                       Comedy   \n",
       "27275                                    Adventure   \n",
       "27276                           (no genres listed)   \n",
       "27277                     Adventure|Fantasy|Horror   \n",
       "\n",
       "                                            tag_metadata  \n",
       "0      Watched computer animation Disney animated fea...  \n",
       "1      time travel adapted from:book board game child...  \n",
       "2      old people that is actually funny sequel fever...  \n",
       "3      chick flick revenge characters chick flick cha...  \n",
       "4      Diane Keaton family sequel Steve Martin weddin...  \n",
       "...                                                  ...  \n",
       "27273                                                     \n",
       "27274                                                     \n",
       "27275                 bandits Korea mutiny pirates whale  \n",
       "27276                                                     \n",
       "27277                                                     \n",
       "\n",
       "[27278 rows x 4 columns]"
      ]
     },
     "execution_count": 15,
     "metadata": {},
     "output_type": "execute_result"
    }
   ],
   "source": [
    "movies2 = pd.merge(movies, tags1, how='left', on=['movieId'])\n",
    "movies2 = movies2.fillna(\"\")\n",
    "movies2 = movies2.rename(columns={'tag': 'tag_metadata'})\n",
    "movies2"
   ]
  },
  {
   "cell_type": "markdown",
   "metadata": {},
   "source": [
    "### Content Filtering\n",
    "#### TF-IDF Vectorizer for tag_metadata"
   ]
  },
  {
   "cell_type": "code",
   "execution_count": 16,
   "metadata": {
    "execution": {
     "iopub.execute_input": "2021-11-17T17:51:47.741519Z",
     "iopub.status.busy": "2021-11-17T17:51:47.741152Z",
     "iopub.status.idle": "2021-11-17T17:51:50.038479Z",
     "shell.execute_reply": "2021-11-17T17:51:50.037634Z",
     "shell.execute_reply.started": "2021-11-17T17:51:47.741481Z"
    }
   },
   "outputs": [
    {
     "data": {
      "text/plain": [
       "(27278, 23863)"
      ]
     },
     "execution_count": 16,
     "metadata": {},
     "output_type": "execute_result"
    }
   ],
   "source": [
    "tfidf = TfidfVectorizer(stop_words='english')\n",
    "tfidf_matrix = tfidf.fit_transform(movies2['tag_metadata'])\n",
    "tfidf_df = pd.DataFrame(tfidf_matrix.toarray(), movies2.index.tolist())\n",
    "tfidf_df.shape"
   ]
  },
  {
   "cell_type": "code",
   "execution_count": 17,
   "metadata": {
    "execution": {
     "iopub.execute_input": "2021-11-17T18:02:32.440254Z",
     "iopub.status.busy": "2021-11-17T18:02:32.438974Z",
     "iopub.status.idle": "2021-11-17T18:11:39.408744Z",
     "shell.execute_reply": "2021-11-17T18:11:39.407743Z",
     "shell.execute_reply.started": "2021-11-17T18:02:32.440178Z"
    }
   },
   "outputs": [],
   "source": [
    "svd = TruncatedSVD(n_components=2000)\n",
    "latent_matrix_1 = svd.fit_transform(tfidf_df)"
   ]
  },
  {
   "cell_type": "code",
   "execution_count": 18,
   "metadata": {
    "execution": {
     "iopub.execute_input": "2021-11-17T18:20:53.903007Z",
     "iopub.status.busy": "2021-11-17T18:20:53.902407Z",
     "iopub.status.idle": "2021-11-17T18:20:53.911910Z",
     "shell.execute_reply": "2021-11-17T18:20:53.910969Z",
     "shell.execute_reply.started": "2021-11-17T18:20:53.902970Z"
    }
   },
   "outputs": [
    {
     "data": {
      "text/plain": [
       "(20402, 2000)"
      ]
     },
     "execution_count": 18,
     "metadata": {},
     "output_type": "execute_result"
    }
   ],
   "source": [
    "latent_matrix_1_1 = latent_matrix_1[:20402]\n",
    "latent_matrix_1_1.shape"
   ]
  },
  {
   "cell_type": "code",
   "execution_count": 19,
   "metadata": {
    "execution": {
     "iopub.execute_input": "2021-11-17T18:17:47.486025Z",
     "iopub.status.busy": "2021-11-17T18:17:47.484829Z",
     "iopub.status.idle": "2021-11-17T18:17:47.726416Z",
     "shell.execute_reply": "2021-11-17T18:17:47.725538Z",
     "shell.execute_reply.started": "2021-11-17T18:17:47.485970Z"
    }
   },
   "outputs": [
    {
     "data": {
      "image/png": "[encoded data removed]",
      "text/plain": [
       "<Figure size 432x288 with 1 Axes>"
      ]
     },
     "metadata": {
      "needs_background": "light"
     },
     "output_type": "display_data"
    }
   ],
   "source": [
    "explained = svd.explained_variance_ratio_.cumsum()\n",
    "plt.plot(explained, '.-', ms = 16, color='red')\n",
    "plt.xlabel('Singular value components', fontsize= 12)\n",
    "plt.ylabel('Cumulative percent of variance', fontsize=12)        \n",
    "plt.show()"
   ]
  },
  {
   "cell_type": "code",
   "execution_count": 20,
   "metadata": {
    "execution": {
     "iopub.execute_input": "2021-11-17T18:19:19.195165Z",
     "iopub.status.busy": "2021-11-17T18:19:19.194782Z",
     "iopub.status.idle": "2021-11-17T18:19:19.208058Z",
     "shell.execute_reply": "2021-11-17T18:19:19.206947Z",
     "shell.execute_reply.started": "2021-11-17T18:19:19.195098Z"
    }
   },
   "outputs": [
    {
     "data": {
      "text/plain": [
       "(27278, 2000)"
      ]
     },
     "execution_count": 20,
     "metadata": {},
     "output_type": "execute_result"
    }
   ],
   "source": [
    "n = 2001\n",
    "latent_matrix_1_df = pd.DataFrame(latent_matrix_1[:,0:n], index=movies2['title'].tolist())\n",
    "latent_matrix_1_df.shape"
   ]
  },
  {
   "cell_type": "code",
   "execution_count": 21,
   "metadata": {
    "execution": {
     "iopub.execute_input": "2021-11-17T18:21:05.580177Z",
     "iopub.status.busy": "2021-11-17T18:21:05.579383Z",
     "iopub.status.idle": "2021-11-17T18:21:05.589270Z",
     "shell.execute_reply": "2021-11-17T18:21:05.588284Z",
     "shell.execute_reply.started": "2021-11-17T18:21:05.580122Z"
    }
   },
   "outputs": [
    {
     "data": {
      "text/plain": [
       "(20402, 2000)"
      ]
     },
     "execution_count": 21,
     "metadata": {},
     "output_type": "execute_result"
    }
   ],
   "source": [
    "latent_matrix_1_df_1 = latent_matrix_1_df[:20402]\n",
    "latent_matrix_1_df_1.shape"
   ]
  },
  {
   "cell_type": "markdown",
   "metadata": {},
   "source": [
    "### Collaborative Filtering\n",
    "#### User-item matrix"
   ]
  },
  {
   "cell_type": "code",
   "execution_count": 22,
   "metadata": {
    "execution": {
     "iopub.execute_input": "2021-11-17T17:51:59.493101Z",
     "iopub.status.busy": "2021-11-17T17:51:59.492795Z",
     "iopub.status.idle": "2021-11-17T17:56:53.653759Z",
     "shell.execute_reply": "2021-11-17T17:56:53.652782Z",
     "shell.execute_reply.started": "2021-11-17T17:51:59.493067Z"
    }
   },
   "outputs": [],
   "source": [
    "svd_user_movies = TruncatedSVD(n_components = 1000)\n",
    "latent_matrix_2 = svd_user_movies.fit_transform(user_movies_data)"
   ]
  },
  {
   "cell_type": "code",
   "execution_count": 23,
   "metadata": {
    "execution": {
     "iopub.execute_input": "2021-11-17T18:01:49.877718Z",
     "iopub.status.busy": "2021-11-17T18:01:49.877200Z",
     "iopub.status.idle": "2021-11-17T18:01:50.128540Z",
     "shell.execute_reply": "2021-11-17T18:01:50.126300Z",
     "shell.execute_reply.started": "2021-11-17T18:01:49.877671Z"
    }
   },
   "outputs": [
    {
     "data": {
      "image/png": "[encoded data removed]",
      "text/plain": [
       "<Figure size 432x288 with 1 Axes>"
      ]
     },
     "metadata": {
      "needs_background": "light"
     },
     "output_type": "display_data"
    }
   ],
   "source": [
    "explained = svd_user_movies.explained_variance_ratio_.cumsum()\n",
    "plt.plot(explained, '.-', color='red')\n",
    "plt.xlabel('Singular value components', fontsize= 12)\n",
    "plt.ylabel('Cumulative percent of variance', fontsize=12)        \n",
    "plt.show()"
   ]
  },
  {
   "cell_type": "code",
   "execution_count": 24,
   "metadata": {
    "execution": {
     "iopub.execute_input": "2021-11-17T18:18:40.114625Z",
     "iopub.status.busy": "2021-11-17T18:18:40.114229Z",
     "iopub.status.idle": "2021-11-17T18:18:40.127088Z",
     "shell.execute_reply": "2021-11-17T18:18:40.125631Z",
     "shell.execute_reply.started": "2021-11-17T18:18:40.114586Z"
    }
   },
   "outputs": [
    {
     "data": {
      "text/plain": [
       "(20402, 1000)"
      ]
     },
     "execution_count": 24,
     "metadata": {},
     "output_type": "execute_result"
    }
   ],
   "source": [
    "n=1001\n",
    "latent_matrix_2_df = pd.DataFrame(latent_matrix_2, index=movies2['title'][:20402].tolist())\n",
    "latent_matrix_2_df.shape"
   ]
  },
  {
   "cell_type": "markdown",
   "metadata": {},
   "source": [
    "### Cosine Similarity"
   ]
  },
  {
   "cell_type": "code",
   "execution_count": 26,
   "metadata": {
    "execution": {
     "iopub.execute_input": "2021-11-17T18:21:22.710788Z",
     "iopub.status.busy": "2021-11-17T18:21:22.710084Z",
     "iopub.status.idle": "2021-11-17T18:21:23.385269Z",
     "shell.execute_reply": "2021-11-17T18:21:23.384218Z",
     "shell.execute_reply.started": "2021-11-17T18:21:22.710746Z"
    }
   },
   "outputs": [
    {
     "data": {
      "text/html": [
       "<div>\n",
       "<style scoped>\n",
       "    .dataframe tbody tr th:only-of-type {\n",
       "        vertical-align: middle;\n",
       "    }\n",
       "\n",
       "    .dataframe tbody tr th {\n",
       "        vertical-align: top;\n",
       "    }\n",
       "\n",
       "    .dataframe thead th {\n",
       "        text-align: right;\n",
       "    }\n",
       "</style>\n",
       "<table border=\"1\" class=\"dataframe\">\n",
       "  <thead>\n",
       "    <tr style=\"text-align: right;\">\n",
       "      <th></th>\n",
       "      <th>content</th>\n",
       "      <th>collaborative</th>\n",
       "      <th>hybrid</th>\n",
       "    </tr>\n",
       "  </thead>\n",
       "  <tbody>\n",
       "    <tr>\n",
       "      <th>You've Got Mail (1998)</th>\n",
       "      <td>0.900355</td>\n",
       "      <td>0.108334</td>\n",
       "      <td>0.662749</td>\n",
       "    </tr>\n",
       "    <tr>\n",
       "      <th>Forrest Gump (1994)</th>\n",
       "      <td>0.562100</td>\n",
       "      <td>0.556772</td>\n",
       "      <td>0.560501</td>\n",
       "    </tr>\n",
       "    <tr>\n",
       "      <th>Joe Versus the Volcano (1990)</th>\n",
       "      <td>0.736178</td>\n",
       "      <td>0.032700</td>\n",
       "      <td>0.525135</td>\n",
       "    </tr>\n",
       "    <tr>\n",
       "      <th>French Kiss (1995)</th>\n",
       "      <td>0.541986</td>\n",
       "      <td>0.445008</td>\n",
       "      <td>0.512892</td>\n",
       "    </tr>\n",
       "    <tr>\n",
       "      <th>Turner &amp; Hooch (1989)</th>\n",
       "      <td>0.642216</td>\n",
       "      <td>0.137212</td>\n",
       "      <td>0.490715</td>\n",
       "    </tr>\n",
       "    <tr>\n",
       "      <th>Money Pit, The (1986)</th>\n",
       "      <td>0.662159</td>\n",
       "      <td>0.086619</td>\n",
       "      <td>0.489497</td>\n",
       "    </tr>\n",
       "    <tr>\n",
       "      <th>Big (1988)</th>\n",
       "      <td>0.617185</td>\n",
       "      <td>0.139473</td>\n",
       "      <td>0.473872</td>\n",
       "    </tr>\n",
       "    <tr>\n",
       "      <th>Volunteers (1985)</th>\n",
       "      <td>0.591626</td>\n",
       "      <td>0.164419</td>\n",
       "      <td>0.463464</td>\n",
       "    </tr>\n",
       "    <tr>\n",
       "      <th>I.Q. (1994)</th>\n",
       "      <td>0.440373</td>\n",
       "      <td>0.412529</td>\n",
       "      <td>0.432020</td>\n",
       "    </tr>\n",
       "    <tr>\n",
       "      <th>Cast Away (2000)</th>\n",
       "      <td>0.547256</td>\n",
       "      <td>0.141556</td>\n",
       "      <td>0.425546</td>\n",
       "    </tr>\n",
       "  </tbody>\n",
       "</table>\n",
       "</div>"
      ],
      "text/plain": [
       "                                content  collaborative    hybrid\n",
       "You've Got Mail (1998)         0.900355       0.108334  0.662749\n",
       "Forrest Gump (1994)            0.562100       0.556772  0.560501\n",
       "Joe Versus the Volcano (1990)  0.736178       0.032700  0.525135\n",
       "French Kiss (1995)             0.541986       0.445008  0.512892\n",
       "Turner & Hooch (1989)          0.642216       0.137212  0.490715\n",
       "Money Pit, The (1986)          0.662159       0.086619  0.489497\n",
       "Big (1988)                     0.617185       0.139473  0.473872\n",
       "Volunteers (1985)              0.591626       0.164419  0.463464\n",
       "I.Q. (1994)                    0.440373       0.412529  0.432020\n",
       "Cast Away (2000)               0.547256       0.141556  0.425546"
      ]
     },
     "execution_count": 26,
     "metadata": {},
     "output_type": "execute_result"
    }
   ],
   "source": [
    "a_1 = np.array(latent_matrix_1_df_1.loc['Sleepless in Seattle (1993)']).reshape(1, -1)\n",
    "a_2 = np.array(latent_matrix_2_df.loc['Sleepless in Seattle (1993)']).reshape(1, -1)\n",
    "\n",
    "score_1 = cosine_similarity(latent_matrix_1_1, a_1).reshape(-1)\n",
    "score_2 = cosine_similarity(latent_matrix_2, a_2).reshape(-1)\n",
    "\n",
    "hybrid = 0.7*score_1 + 0.3*score_2\n",
    "\n",
    "dictDF = ({'content': score_1, 'collaborative': score_2, 'hybrid': hybrid})\n",
    "similar_movies = pd.DataFrame(dictDF, index=latent_matrix_2_df.index)\n",
    "\n",
    "similar_movies.sort_values('hybrid', ascending=False, inplace=True)\n",
    "similar_movies[1:].head(10)"
   ]
  },
  {
   "cell_type": "markdown",
   "metadata": {},
   "source": [
    "### Content Filtering Recommendation System"
   ]
  },
  {
   "cell_type": "code",
   "execution_count": 27,
   "metadata": {},
   "outputs": [],
   "source": [
    "def content_recommend_similar_movies(title):\n",
    "    a_1 = np.array(latent_matrix_1_df_1.loc[title]).reshape(1, -1)\n",
    "    a_2 = np.array(latent_matrix_2_df.loc[title]).reshape(1, -1)\n",
    "\n",
    "    score_1 = cosine_similarity(latent_matrix_1_1, a_1).reshape(-1)\n",
    "    score_2 = cosine_similarity(latent_matrix_2, a_2).reshape(-1)\n",
    "\n",
    "    hybrid = 0.7*score_1 + 0.3*score_2\n",
    "\n",
    "    dictDF = {'content': score_1, 'collaborative': score_2, 'hybrid': hybrid}\n",
    "    similar_movies = pd.DataFrame(dictDF, index=latent_matrix_2_df.index)\n",
    "\n",
    "    similar_movies.sort_values('content', ascending=False, inplace=True)\n",
    "    recommended_movies = similar_movies.index[1:11]\n",
    "    recommended_movies = pd.DataFrame(recommended_movies, columns=['Recommended Movies'])\n",
    "    \n",
    "    return recommended_movies"
   ]
  },
  {
   "cell_type": "code",
   "execution_count": 28,
   "metadata": {},
   "outputs": [
    {
     "data": {
      "text/html": [
       "<div>\n",
       "<style scoped>\n",
       "    .dataframe tbody tr th:only-of-type {\n",
       "        vertical-align: middle;\n",
       "    }\n",
       "\n",
       "    .dataframe tbody tr th {\n",
       "        vertical-align: top;\n",
       "    }\n",
       "\n",
       "    .dataframe thead th {\n",
       "        text-align: right;\n",
       "    }\n",
       "</style>\n",
       "<table border=\"1\" class=\"dataframe\">\n",
       "  <thead>\n",
       "    <tr style=\"text-align: right;\">\n",
       "      <th></th>\n",
       "      <th>Recommended Movies</th>\n",
       "    </tr>\n",
       "  </thead>\n",
       "  <tbody>\n",
       "    <tr>\n",
       "      <th>0</th>\n",
       "      <td>Flubber (1997)</td>\n",
       "    </tr>\n",
       "    <tr>\n",
       "      <th>1</th>\n",
       "      <td>Final Cut, The (2004)</td>\n",
       "    </tr>\n",
       "    <tr>\n",
       "      <th>2</th>\n",
       "      <td>Mrs. Doubtfire (1993)</td>\n",
       "    </tr>\n",
       "    <tr>\n",
       "      <th>3</th>\n",
       "      <td>Fathers' Day (1997)</td>\n",
       "    </tr>\n",
       "    <tr>\n",
       "      <th>4</th>\n",
       "      <td>One Hour Photo (2002)</td>\n",
       "    </tr>\n",
       "    <tr>\n",
       "      <th>5</th>\n",
       "      <td>Jack (1996)</td>\n",
       "    </tr>\n",
       "    <tr>\n",
       "      <th>6</th>\n",
       "      <td>RV (2006)</td>\n",
       "    </tr>\n",
       "    <tr>\n",
       "      <th>7</th>\n",
       "      <td>Good Morning, Vietnam (1987)</td>\n",
       "    </tr>\n",
       "    <tr>\n",
       "      <th>8</th>\n",
       "      <td>Toys (1992)</td>\n",
       "    </tr>\n",
       "    <tr>\n",
       "      <th>9</th>\n",
       "      <td>World's Greatest Dad (2009)</td>\n",
       "    </tr>\n",
       "  </tbody>\n",
       "</table>\n",
       "</div>"
      ],
      "text/plain": [
       "             Recommended Movies\n",
       "0                Flubber (1997)\n",
       "1         Final Cut, The (2004)\n",
       "2         Mrs. Doubtfire (1993)\n",
       "3           Fathers' Day (1997)\n",
       "4         One Hour Photo (2002)\n",
       "5                   Jack (1996)\n",
       "6                     RV (2006)\n",
       "7  Good Morning, Vietnam (1987)\n",
       "8                   Toys (1992)\n",
       "9   World's Greatest Dad (2009)"
      ]
     },
     "execution_count": 28,
     "metadata": {},
     "output_type": "execute_result"
    }
   ],
   "source": [
    "content_recommend_similar_movies('Jumanji (1995)')"
   ]
  },
  {
   "cell_type": "markdown",
   "metadata": {},
   "source": [
    "### Collaborative Filtering Recommendation System"
   ]
  },
  {
   "cell_type": "code",
   "execution_count": 29,
   "metadata": {},
   "outputs": [],
   "source": [
    "def collab_recommend_similar_movies(title):\n",
    "    a_1 = np.array(latent_matrix_1_df_1.loc[title]).reshape(1, -1)\n",
    "    a_2 = np.array(latent_matrix_2_df.loc[title]).reshape(1, -1)\n",
    "\n",
    "    score_1 = cosine_similarity(latent_matrix_1_1, a_1).reshape(-1)\n",
    "    score_2 = cosine_similarity(latent_matrix_2, a_2).reshape(-1)\n",
    "\n",
    "    hybrid = 0.7*score_1 + 0.3*score_2\n",
    "\n",
    "    dictDF = {'content': score_1, 'collaborative': score_2, 'hybrid': hybrid}\n",
    "    similar_movies = pd.DataFrame(dictDF, index=latent_matrix_2_df.index)\n",
    "\n",
    "    similar_movies.sort_values('collaborative', ascending=False, inplace=True)\n",
    "    recommended_movies = similar_movies.index[1:11]\n",
    "    recommended_movies = pd.DataFrame(recommended_movies, columns=['Recommended Movies'])\n",
    "    \n",
    "    return recommended_movies"
   ]
  },
  {
   "cell_type": "code",
   "execution_count": 30,
   "metadata": {},
   "outputs": [
    {
     "data": {
      "text/html": [
       "<div>\n",
       "<style scoped>\n",
       "    .dataframe tbody tr th:only-of-type {\n",
       "        vertical-align: middle;\n",
       "    }\n",
       "\n",
       "    .dataframe tbody tr th {\n",
       "        vertical-align: top;\n",
       "    }\n",
       "\n",
       "    .dataframe thead th {\n",
       "        text-align: right;\n",
       "    }\n",
       "</style>\n",
       "<table border=\"1\" class=\"dataframe\">\n",
       "  <thead>\n",
       "    <tr style=\"text-align: right;\">\n",
       "      <th></th>\n",
       "      <th>Recommended Movies</th>\n",
       "    </tr>\n",
       "  </thead>\n",
       "  <tbody>\n",
       "    <tr>\n",
       "      <th>0</th>\n",
       "      <td>Mask, The (1994)</td>\n",
       "    </tr>\n",
       "    <tr>\n",
       "      <th>1</th>\n",
       "      <td>Lion King, The (1994)</td>\n",
       "    </tr>\n",
       "    <tr>\n",
       "      <th>2</th>\n",
       "      <td>Mrs. Doubtfire (1993)</td>\n",
       "    </tr>\n",
       "    <tr>\n",
       "      <th>3</th>\n",
       "      <td>Home Alone (1990)</td>\n",
       "    </tr>\n",
       "    <tr>\n",
       "      <th>4</th>\n",
       "      <td>Jurassic Park (1993)</td>\n",
       "    </tr>\n",
       "    <tr>\n",
       "      <th>5</th>\n",
       "      <td>Aladdin (1992)</td>\n",
       "    </tr>\n",
       "    <tr>\n",
       "      <th>6</th>\n",
       "      <td>Speed (1994)</td>\n",
       "    </tr>\n",
       "    <tr>\n",
       "      <th>7</th>\n",
       "      <td>Santa Clause, The (1994)</td>\n",
       "    </tr>\n",
       "    <tr>\n",
       "      <th>8</th>\n",
       "      <td>Waterworld (1995)</td>\n",
       "    </tr>\n",
       "    <tr>\n",
       "      <th>9</th>\n",
       "      <td>Batman Forever (1995)</td>\n",
       "    </tr>\n",
       "  </tbody>\n",
       "</table>\n",
       "</div>"
      ],
      "text/plain": [
       "         Recommended Movies\n",
       "0          Mask, The (1994)\n",
       "1     Lion King, The (1994)\n",
       "2     Mrs. Doubtfire (1993)\n",
       "3         Home Alone (1990)\n",
       "4      Jurassic Park (1993)\n",
       "5            Aladdin (1992)\n",
       "6              Speed (1994)\n",
       "7  Santa Clause, The (1994)\n",
       "8         Waterworld (1995)\n",
       "9     Batman Forever (1995)"
      ]
     },
     "execution_count": 30,
     "metadata": {},
     "output_type": "execute_result"
    }
   ],
   "source": [
    "collab_recommend_similar_movies('Jumanji (1995)')"
   ]
  },
  {
   "cell_type": "markdown",
   "metadata": {},
   "source": [
    "### Hybrid (Content + Collaborative Filtering) Recommendation System"
   ]
  },
  {
   "cell_type": "code",
   "execution_count": 31,
   "metadata": {
    "execution": {
     "iopub.execute_input": "2021-11-17T18:22:21.916847Z",
     "iopub.status.busy": "2021-11-17T18:22:21.915848Z",
     "iopub.status.idle": "2021-11-17T18:22:21.925532Z",
     "shell.execute_reply": "2021-11-17T18:22:21.924351Z",
     "shell.execute_reply.started": "2021-11-17T18:22:21.916805Z"
    }
   },
   "outputs": [],
   "source": [
    "def hybrid_recommend_similar_movies(title):\n",
    "    a_1 = np.array(latent_matrix_1_df_1.loc[title]).reshape(1, -1)\n",
    "    a_2 = np.array(latent_matrix_2_df.loc[title]).reshape(1, -1)\n",
    "\n",
    "    score_1 = cosine_similarity(latent_matrix_1_1, a_1).reshape(-1)\n",
    "    score_2 = cosine_similarity(latent_matrix_2, a_2).reshape(-1)\n",
    "\n",
    "    hybrid = 0.7*score_1 + 0.3*score_2\n",
    "\n",
    "    dictDF = {'content': score_1, 'collaborative': score_2, 'hybrid': hybrid}\n",
    "    similar_movies = pd.DataFrame(dictDF, index=latent_matrix_2_df.index)\n",
    "\n",
    "    similar_movies.sort_values('hybrid', ascending=False, inplace=True)\n",
    "    recommended_movies = similar_movies.index[1:11]\n",
    "    recommended_movies = pd.DataFrame(recommended_movies, columns=['Recommended Movies'])\n",
    "    \n",
    "    return recommended_movies"
   ]
  },
  {
   "cell_type": "code",
   "execution_count": 32,
   "metadata": {
    "execution": {
     "iopub.execute_input": "2021-11-17T18:22:23.933338Z",
     "iopub.status.busy": "2021-11-17T18:22:23.933025Z",
     "iopub.status.idle": "2021-11-17T18:22:24.452095Z",
     "shell.execute_reply": "2021-11-17T18:22:24.450960Z",
     "shell.execute_reply.started": "2021-11-17T18:22:23.933307Z"
    }
   },
   "outputs": [
    {
     "data": {
      "text/html": [
       "<div>\n",
       "<style scoped>\n",
       "    .dataframe tbody tr th:only-of-type {\n",
       "        vertical-align: middle;\n",
       "    }\n",
       "\n",
       "    .dataframe tbody tr th {\n",
       "        vertical-align: top;\n",
       "    }\n",
       "\n",
       "    .dataframe thead th {\n",
       "        text-align: right;\n",
       "    }\n",
       "</style>\n",
       "<table border=\"1\" class=\"dataframe\">\n",
       "  <thead>\n",
       "    <tr style=\"text-align: right;\">\n",
       "      <th></th>\n",
       "      <th>Recommended Movies</th>\n",
       "    </tr>\n",
       "  </thead>\n",
       "  <tbody>\n",
       "    <tr>\n",
       "      <th>0</th>\n",
       "      <td>Mrs. Doubtfire (1993)</td>\n",
       "    </tr>\n",
       "    <tr>\n",
       "      <th>1</th>\n",
       "      <td>Flubber (1997)</td>\n",
       "    </tr>\n",
       "    <tr>\n",
       "      <th>2</th>\n",
       "      <td>Final Cut, The (2004)</td>\n",
       "    </tr>\n",
       "    <tr>\n",
       "      <th>3</th>\n",
       "      <td>Fathers' Day (1997)</td>\n",
       "    </tr>\n",
       "    <tr>\n",
       "      <th>4</th>\n",
       "      <td>Jack (1996)</td>\n",
       "    </tr>\n",
       "    <tr>\n",
       "      <th>5</th>\n",
       "      <td>One Hour Photo (2002)</td>\n",
       "    </tr>\n",
       "    <tr>\n",
       "      <th>6</th>\n",
       "      <td>RV (2006)</td>\n",
       "    </tr>\n",
       "    <tr>\n",
       "      <th>7</th>\n",
       "      <td>Big White, The (2005)</td>\n",
       "    </tr>\n",
       "    <tr>\n",
       "      <th>8</th>\n",
       "      <td>Best Defense (1984)</td>\n",
       "    </tr>\n",
       "    <tr>\n",
       "      <th>9</th>\n",
       "      <td>Toys (1992)</td>\n",
       "    </tr>\n",
       "  </tbody>\n",
       "</table>\n",
       "</div>"
      ],
      "text/plain": [
       "      Recommended Movies\n",
       "0  Mrs. Doubtfire (1993)\n",
       "1         Flubber (1997)\n",
       "2  Final Cut, The (2004)\n",
       "3    Fathers' Day (1997)\n",
       "4            Jack (1996)\n",
       "5  One Hour Photo (2002)\n",
       "6              RV (2006)\n",
       "7  Big White, The (2005)\n",
       "8    Best Defense (1984)\n",
       "9            Toys (1992)"
      ]
     },
     "execution_count": 32,
     "metadata": {},
     "output_type": "execute_result"
    }
   ],
   "source": [
    "hybrid_recommend_similar_movies('Jumanji (1995)')"
   ]
  },
  {
   "cell_type": "markdown",
   "metadata": {},
   "source": [
    "### Matrix Factorization Recommender"
   ]
  },
  {
   "cell_type": "code",
   "execution_count": 39,
   "metadata": {
    "execution": {
     "iopub.execute_input": "2021-11-17T07:39:26.322654Z",
     "iopub.status.busy": "2021-11-17T07:39:26.322322Z",
     "iopub.status.idle": "2021-11-17T07:39:26.353014Z",
     "shell.execute_reply": "2021-11-17T07:39:26.352063Z",
     "shell.execute_reply.started": "2021-11-17T07:39:26.322623Z"
    }
   },
   "outputs": [],
   "source": [
    "class MF():\n",
    "    def __init__(self, R, K, alpha, beta, iterations):\n",
    "        self.R = R\n",
    "        self.num_users, self.num_items = R.shape\n",
    "        self.K = K\n",
    "        self.alpha = alpha\n",
    "        self.beta = beta\n",
    "        self.iterations = iterations\n",
    "\n",
    "    def train(self):\n",
    "        self.P = np.random.normal(scale=1./self.K, size=(self.num_users, self.K))\n",
    "        self.Q = np.random.normal(scale=1./self.K, size=(self.num_items, self.K))\n",
    "\n",
    "        self.b_u = np.zeros(self.num_users)\n",
    "        self.b_i = np.zeros(self.num_items)\n",
    "        self.b = np.mean(self.R[np.where(self.R != 0)])\n",
    "\n",
    "        self.samples = [\n",
    "        (i, j, self.R[i, j])\n",
    "        for i in range(self.num_users)\n",
    "        for j in range(self.num_items)\n",
    "        if self.R[i, j] > 0\n",
    "        ]\n",
    "\n",
    "        training_process = []\n",
    "        for i in range(self.iterations):\n",
    "            np.random.shuffle(self.samples)\n",
    "            self.sgd()\n",
    "            mse = self.mse()\n",
    "            training_process.append((i, mse))\n",
    "            if (i+1) % 20 == 0:\n",
    "                print(\"Iteration: %d ; error = %.4f\" % (i+1, mse))\n",
    "\n",
    "        return training_process\n",
    "\n",
    "    def mse(self):\n",
    "        xs, ys = self.R.nonzero()\n",
    "        predicted = self.full_matrix()\n",
    "        error = 0\n",
    "        for x, y in zip(xs, ys):\n",
    "            error += pow(self.R[x, y] - predicted[x, y], 2)\n",
    "        return np.sqrt(error)\n",
    "\n",
    "    def sgd(self):\n",
    "        for i, j, r in self.samples:\n",
    "            prediction = self.get_rating(i, j)\n",
    "            e = (r - prediction)\n",
    "\n",
    "            self.b_u[i] += self.alpha * (e - self.beta * self.b_u[i])\n",
    "            self.b_i[j] += self.alpha * (e - self.beta * self.b_i[j])\n",
    "\n",
    "            self.P[i, :] += self.alpha * (e * self.Q[j, :] - self.beta * self.P[i,:])\n",
    "            self.Q[j, :] += self.alpha * (e * self.P[i, :] - self.beta * self.Q[j,:])\n",
    "\n",
    "    def get_rating(self, i, j):\n",
    "        prediction = self.b + self.b_u[i] + self.b_i[j] + self.P[i, :].dot(self.Q[j, :].T)\n",
    "        return prediction\n",
    "    \n",
    "    def full_matrix(self):\n",
    "        return mf.b + mf.b_u[:,np.newaxis] + mf.b_i[np.newaxis:,] + mf.P.dot(mf.Q.T)"
   ]
  },
  {
   "cell_type": "code",
   "execution_count": 42,
   "metadata": {
    "execution": {
     "iopub.execute_input": "2021-11-17T07:40:29.306188Z",
     "iopub.status.busy": "2021-11-17T07:40:29.305630Z",
     "iopub.status.idle": "2021-11-17T07:40:35.225427Z",
     "shell.execute_reply": "2021-11-17T07:40:35.224610Z",
     "shell.execute_reply.started": "2021-11-17T07:40:29.306150Z"
    }
   },
   "outputs": [],
   "source": [
    "R= np.array(ratings_5m.pivot(index = 'userId', columns ='movieId', values = 'rating').fillna(0))"
   ]
  },
  {
   "cell_type": "code",
   "execution_count": 43,
   "metadata": {
    "execution": {
     "iopub.execute_input": "2021-11-17T07:40:41.026334Z",
     "iopub.status.busy": "2021-11-17T07:40:41.025986Z",
     "iopub.status.idle": "2021-11-17T09:39:28.539770Z",
     "shell.execute_reply": "2021-11-17T09:39:28.536815Z",
     "shell.execute_reply.started": "2021-11-17T07:40:41.026300Z"
    }
   },
   "outputs": [],
   "source": [
    "mf = MF(R, K=20, alpha=0.001, beta=0.01, iterations=50)\n",
    "training_process = mf.train()\n",
    "print()\n",
    "print(\"P x Q:\")\n",
    "print(mf.full_matrix())\n",
    "print()"
   ]
  }
 ],
 "metadata": {
  "kernelspec": {
   "display_name": "Python 3 (ipykernel)",
   "language": "python",
   "name": "python3"
  },
  "language_info": {
   "codemirror_mode": {
    "name": "ipython",
    "version": 3
   },
   "file_extension": ".py",
   "mimetype": "text/x-python",
   "name": "python",
   "nbconvert_exporter": "python",
   "pygments_lexer": "ipython3",
   "version": "3.10.1"
  }
 },
 "nbformat": 4,
 "nbformat_minor": 4
}
